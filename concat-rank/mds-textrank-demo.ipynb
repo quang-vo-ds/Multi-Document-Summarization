{
 "cells": [
  {
   "cell_type": "markdown",
   "id": "d83e55ec",
   "metadata": {
    "papermill": {
     "duration": 0.00574,
     "end_time": "2023-10-17T07:10:08.515608",
     "exception": false,
     "start_time": "2023-10-17T07:10:08.509868",
     "status": "completed"
    },
    "tags": []
   },
   "source": [
    "## Setup"
   ]
  },
  {
   "cell_type": "code",
   "execution_count": 1,
   "id": "f6a938f7",
   "metadata": {
    "_cell_guid": "b1076dfc-b9ad-4769-8c92-a6c4dae69d19",
    "_uuid": "8f2839f25d086af736a60e9eeb907d3b93b6e0e5",
    "execution": {
     "iopub.execute_input": "2023-10-17T07:10:08.531575Z",
     "iopub.status.busy": "2023-10-17T07:10:08.530331Z",
     "iopub.status.idle": "2023-10-17T07:10:44.400479Z",
     "shell.execute_reply": "2023-10-17T07:10:44.398712Z"
    },
    "papermill": {
     "duration": 35.879252,
     "end_time": "2023-10-17T07:10:44.403592",
     "exception": false,
     "start_time": "2023-10-17T07:10:08.524340",
     "status": "completed"
    },
    "tags": []
   },
   "outputs": [],
   "source": [
    "!pip -q install transformers\n",
    "!pip -q install evaluate\n",
    "!pip -q install rouge_score"
   ]
  },
  {
   "cell_type": "code",
   "execution_count": 2,
   "id": "f0791cde",
   "metadata": {
    "execution": {
     "iopub.execute_input": "2023-10-17T07:10:44.415394Z",
     "iopub.status.busy": "2023-10-17T07:10:44.414936Z",
     "iopub.status.idle": "2023-10-17T07:11:05.267945Z",
     "shell.execute_reply": "2023-10-17T07:11:05.266744Z"
    },
    "papermill": {
     "duration": 20.861888,
     "end_time": "2023-10-17T07:11:05.270173",
     "exception": false,
     "start_time": "2023-10-17T07:10:44.408285",
     "status": "completed"
    },
    "tags": []
   },
   "outputs": [
    {
     "name": "stdout",
     "output_type": "stream",
     "text": [
      "Running on device: cpu\n"
     ]
    }
   ],
   "source": [
    "from glob import glob\n",
    "from sklearn.model_selection import GroupKFold, StratifiedKFold\n",
    "import torch\n",
    "from torch import nn\n",
    "import os\n",
    "import itertools\n",
    "from datetime import datetime\n",
    "import time\n",
    "import random\n",
    "import pprint\n",
    "import pandas as pd\n",
    "import numpy as np\n",
    "from tqdm import tqdm\n",
    "\n",
    "import matplotlib.pyplot as plt\n",
    "import seaborn as sns\n",
    "from torch.utils.data import Dataset,DataLoader\n",
    "from torch.utils.data.sampler import SequentialSampler, RandomSampler\n",
    "from torch.cuda.amp import autocast, GradScaler\n",
    "from torch.nn.modules.loss import _WeightedLoss\n",
    "import torch.nn.functional as F\n",
    "\n",
    "import sklearn\n",
    "import warnings\n",
    "import joblib\n",
    "from sklearn.metrics import roc_auc_score, log_loss\n",
    "from sklearn import metrics\n",
    "\n",
    "# Hugging Face\n",
    "from transformers import AutoTokenizer, AutoModelForSeq2SeqLM\n",
    "import evaluate\n",
    "\n",
    "# rich: for a better display on terminal\n",
    "from rich.table import Column, Table\n",
    "from rich import box\n",
    "from rich.console import Console\n",
    "\n",
    "# Network\n",
    "import networkx as nx\n",
    "\n",
    "# Device\n",
    "device = 'cuda' if torch.cuda.is_available() else 'cpu'\n",
    "print(f'Running on device: {device}')"
   ]
  },
  {
   "cell_type": "code",
   "execution_count": 3,
   "id": "8174ac3c",
   "metadata": {
    "execution": {
     "iopub.execute_input": "2023-10-17T07:11:05.281919Z",
     "iopub.status.busy": "2023-10-17T07:11:05.280553Z",
     "iopub.status.idle": "2023-10-17T07:11:05.286362Z",
     "shell.execute_reply": "2023-10-17T07:11:05.285304Z"
    },
    "papermill": {
     "duration": 0.013928,
     "end_time": "2023-10-17T07:11:05.288683",
     "exception": false,
     "start_time": "2023-10-17T07:11:05.274755",
     "status": "completed"
    },
    "tags": []
   },
   "outputs": [],
   "source": [
    "CFG = {\n",
    "    'show_examples': True,\n",
    "    'data_dir': '/kaggle/input/drowsy-eye-keypoints',\n",
    "    'seed': 719,\n",
    "    'model_arch': \"VietAI/vit5-base-vietnews-summarization\",\n",
    "    'text_len': 80,\n",
    "    'batch_size': 4,\n",
    "}"
   ]
  },
  {
   "cell_type": "code",
   "execution_count": 4,
   "id": "64eb494c",
   "metadata": {
    "execution": {
     "iopub.execute_input": "2023-10-17T07:11:05.299749Z",
     "iopub.status.busy": "2023-10-17T07:11:05.299364Z",
     "iopub.status.idle": "2023-10-17T07:11:05.304883Z",
     "shell.execute_reply": "2023-10-17T07:11:05.303825Z"
    },
    "papermill": {
     "duration": 0.01373,
     "end_time": "2023-10-17T07:11:05.307145",
     "exception": false,
     "start_time": "2023-10-17T07:11:05.293415",
     "status": "completed"
    },
    "tags": []
   },
   "outputs": [],
   "source": [
    "data_dir = '/kaggle/input/vims-dataset/ViMs'\n",
    "original_dir = os.path.join(data_dir, 'original')\n",
    "summary_dir = os.path.join(data_dir, 'summary')"
   ]
  },
  {
   "cell_type": "markdown",
   "id": "c57ac46b",
   "metadata": {
    "papermill": {
     "duration": 0.004375,
     "end_time": "2023-10-17T07:11:05.315939",
     "exception": false,
     "start_time": "2023-10-17T07:11:05.311564",
     "status": "completed"
    },
    "tags": []
   },
   "source": [
    "## Utils"
   ]
  },
  {
   "cell_type": "code",
   "execution_count": 5,
   "id": "cf409239",
   "metadata": {
    "execution": {
     "iopub.execute_input": "2023-10-17T07:11:05.326732Z",
     "iopub.status.busy": "2023-10-17T07:11:05.326113Z",
     "iopub.status.idle": "2023-10-17T07:11:05.331339Z",
     "shell.execute_reply": "2023-10-17T07:11:05.330435Z"
    },
    "papermill": {
     "duration": 0.013372,
     "end_time": "2023-10-17T07:11:05.333560",
     "exception": false,
     "start_time": "2023-10-17T07:11:05.320188",
     "status": "completed"
    },
    "tags": []
   },
   "outputs": [],
   "source": [
    "def seed_everything(seed):\n",
    "    random.seed(seed)\n",
    "    os.environ['PYTHONHASHSEED'] = str(seed)\n",
    "    np.random.seed(seed)\n",
    "    torch.manual_seed(seed)\n",
    "    torch.cuda.manual_seed(seed)\n",
    "    torch.backends.cudnn.deterministic = True\n",
    "    torch.backends.cudnn.benchmark = True"
   ]
  },
  {
   "cell_type": "code",
   "execution_count": 6,
   "id": "2dfe2ad7",
   "metadata": {
    "execution": {
     "iopub.execute_input": "2023-10-17T07:11:05.344654Z",
     "iopub.status.busy": "2023-10-17T07:11:05.344226Z",
     "iopub.status.idle": "2023-10-17T07:11:05.370805Z",
     "shell.execute_reply": "2023-10-17T07:11:05.369623Z"
    },
    "papermill": {
     "duration": 0.03502,
     "end_time": "2023-10-17T07:11:05.373084",
     "exception": false,
     "start_time": "2023-10-17T07:11:05.338064",
     "status": "completed"
    },
    "tags": []
   },
   "outputs": [
    {
     "name": "stdout",
     "output_type": "stream",
     "text": [
      "['Các chuyên gia hàng không lo ngại một hành động cố ý đã khiến máy bay biến mất khỏi màn hình radar.', 'Bộ trưởng Hàng không Ai Cập Sherif Fathy nghiêng về khả năng MS804 bị khủng bố nhiều hơn là trục trặc kỹ thuật.', 'Họ nghi ngờ một quả bom khiến máy bay nổ tung, sau đó rơi xuống biển.', 'Tổng thư ký Tổ chức Hiệp ước Bắc Đại Tây Dương Jens Stoltenberg cho biết sẽ hỗ trợ công tác tìm kiếm máy bay MS 804.', 'một cuộc điều tra quy mô lớn đang được tiến hành sau khi chiếc A320 biến mất.', 'Theo các nguồn tin, hải mảnh nhựa vỡ được tìm thấy có màu trắng và đỏ.', 'Những mảnh vỡ  được phát hiện ở gần khu vực nơi hệ thống định vị khẩn cấp trên máy bay đã phát tín hiệu trước đó.', '66 người được cho là đã chết khi chuyến bay MS804 biến mất.', 'Ezeddin Samar là nữ tiếp viên có mặt trên chuyến bay MS804.', 'Ngay sau sự cố, có người phát hiện ra cô từng đăng ảnh bên cạnh một máy bay bị chìm.']\n"
     ]
    }
   ],
   "source": [
    "def read_txt(path, article_type, sent=False):\n",
    "    content = []\n",
    "    write_file = False\n",
    "    with open(path) as f:\n",
    "        for line in f:\n",
    "            if article_type == \"original\":\n",
    "                if line.lower().startswith(\"content\"):\n",
    "                    write_file = True\n",
    "            else:\n",
    "                write_file = True\n",
    "            if write_file: \n",
    "                if line.rstrip():\n",
    "                    content.append(line.rstrip())\n",
    "    if sent:\n",
    "        return content[1:]\n",
    "    return \" \".join(content[1:])\n",
    "if CFG['show_examples']:\n",
    "    path1 = '/kaggle/input/vims-dataset/ViMs/original/Cluster_001/original/10.txt'\n",
    "    path2 = '/kaggle/input/vims-dataset/ViMs/summary/Cluster_001/0.gold.txt'\n",
    "    print(read_txt(path2, article_type=\"summary\", sent=True))"
   ]
  },
  {
   "cell_type": "markdown",
   "id": "e22478d3",
   "metadata": {
    "papermill": {
     "duration": 0.004125,
     "end_time": "2023-10-17T07:11:05.381862",
     "exception": false,
     "start_time": "2023-10-17T07:11:05.377737",
     "status": "completed"
    },
    "tags": []
   },
   "source": [
    "## CSV File"
   ]
  },
  {
   "cell_type": "code",
   "execution_count": 7,
   "id": "c7db809a",
   "metadata": {
    "execution": {
     "iopub.execute_input": "2023-10-17T07:11:05.392536Z",
     "iopub.status.busy": "2023-10-17T07:11:05.392113Z",
     "iopub.status.idle": "2023-10-17T07:11:08.545130Z",
     "shell.execute_reply": "2023-10-17T07:11:08.543924Z"
    },
    "papermill": {
     "duration": 3.161573,
     "end_time": "2023-10-17T07:11:08.547748",
     "exception": false,
     "start_time": "2023-10-17T07:11:05.386175",
     "status": "completed"
    },
    "tags": []
   },
   "outputs": [
    {
     "name": "stdout",
     "output_type": "stream",
     "text": [
      "300\n",
      "300\n",
      "       cluster                                       original_dir  \\\n",
      "0  Cluster_001  [/kaggle/input/vims-dataset/ViMs/original/Clus...   \n",
      "1  Cluster_002  [/kaggle/input/vims-dataset/ViMs/original/Clus...   \n",
      "2  Cluster_003  [/kaggle/input/vims-dataset/ViMs/original/Clus...   \n",
      "3  Cluster_004  [/kaggle/input/vims-dataset/ViMs/original/Clus...   \n",
      "4  Cluster_005  [/kaggle/input/vims-dataset/ViMs/original/Clus...   \n",
      "\n",
      "                                         summary_dir  \n",
      "0  [/kaggle/input/vims-dataset/ViMs/summary/Clust...  \n",
      "1  [/kaggle/input/vims-dataset/ViMs/summary/Clust...  \n",
      "2  [/kaggle/input/vims-dataset/ViMs/summary/Clust...  \n",
      "3  [/kaggle/input/vims-dataset/ViMs/summary/Clust...  \n",
      "4  [/kaggle/input/vims-dataset/ViMs/summary/Clust...  \n"
     ]
    }
   ],
   "source": [
    "def create_csv(data_dir):\n",
    "    \"\"\"\n",
    "    Input: data_dir\n",
    "    - dir format: data_dir/original/cluster/original/txt\n",
    "    Output: csv\n",
    "    \"\"\"\n",
    "    df = {'cluster':[], 'path':[]}\n",
    "    for cluster in os.listdir(data_dir):\n",
    "        file_type = data_dir[data_dir.rfind(\"/\")+1:]\n",
    "        if file_type == \"original\":\n",
    "            f_path = os.path.join(data_dir, cluster, file_type)\n",
    "        else:\n",
    "            f_path = os.path.join(data_dir, cluster)\n",
    "        for f in glob(f_path + '/*'):\n",
    "            df['cluster'].append(cluster)\n",
    "            df['path'].append(f)\n",
    "\n",
    "    df = pd.DataFrame(df)\n",
    "    df = df.groupby('cluster')['path'].apply(list).reset_index()\n",
    "    return df\n",
    "\n",
    "original_df = create_csv(original_dir)\n",
    "original_df.columns = ['cluster', 'original_dir']\n",
    "\n",
    "summary_df = create_csv(summary_dir)\n",
    "summary_df.columns = ['cluster', 'summary_dir']\n",
    "\n",
    "df = original_df.merge(summary_df, how='inner', on='cluster')\n",
    "if CFG['show_examples']:\n",
    "    print(len(df))\n",
    "    print(len(df['cluster'].unique()))\n",
    "    print(df.head())"
   ]
  },
  {
   "cell_type": "markdown",
   "id": "dc759f9d",
   "metadata": {
    "papermill": {
     "duration": 0.004125,
     "end_time": "2023-10-17T07:11:08.556514",
     "exception": false,
     "start_time": "2023-10-17T07:11:08.552389",
     "status": "completed"
    },
    "tags": []
   },
   "source": [
    "## Representation of Sentences"
   ]
  },
  {
   "cell_type": "code",
   "execution_count": 8,
   "id": "f987987f",
   "metadata": {
    "execution": {
     "iopub.execute_input": "2023-10-17T07:11:08.567643Z",
     "iopub.status.busy": "2023-10-17T07:11:08.566587Z",
     "iopub.status.idle": "2023-10-17T07:11:33.206504Z",
     "shell.execute_reply": "2023-10-17T07:11:33.205270Z"
    },
    "papermill": {
     "duration": 24.648124,
     "end_time": "2023-10-17T07:11:33.208891",
     "exception": false,
     "start_time": "2023-10-17T07:11:08.560767",
     "status": "completed"
    },
    "tags": []
   },
   "outputs": [
    {
     "data": {
      "application/vnd.jupyter.widget-view+json": {
       "model_id": "3d0fef6e1e1c43a98188ed7787873fac",
       "version_major": 2,
       "version_minor": 0
      },
      "text/plain": [
       "Downloading (…)okenizer_config.json:   0%|          | 0.00/2.20k [00:00<?, ?B/s]"
      ]
     },
     "metadata": {},
     "output_type": "display_data"
    },
    {
     "data": {
      "application/vnd.jupyter.widget-view+json": {
       "model_id": "1235e76fc3ac4bd7b3fbc82a31db4ba5",
       "version_major": 2,
       "version_minor": 0
      },
      "text/plain": [
       "Downloading spiece.model:   0%|          | 0.00/820k [00:00<?, ?B/s]"
      ]
     },
     "metadata": {},
     "output_type": "display_data"
    },
    {
     "data": {
      "application/vnd.jupyter.widget-view+json": {
       "model_id": "e189193409134ad2a69aa44c92fae46c",
       "version_major": 2,
       "version_minor": 0
      },
      "text/plain": [
       "Downloading (…)/main/tokenizer.json:   0%|          | 0.00/2.40M [00:00<?, ?B/s]"
      ]
     },
     "metadata": {},
     "output_type": "display_data"
    },
    {
     "data": {
      "application/vnd.jupyter.widget-view+json": {
       "model_id": "17c641570f104e1496fdea6d4ff559dd",
       "version_major": 2,
       "version_minor": 0
      },
      "text/plain": [
       "Downloading (…)cial_tokens_map.json:   0%|          | 0.00/2.12k [00:00<?, ?B/s]"
      ]
     },
     "metadata": {},
     "output_type": "display_data"
    },
    {
     "data": {
      "application/vnd.jupyter.widget-view+json": {
       "model_id": "bc618cf9940d4d92a163390761c215b2",
       "version_major": 2,
       "version_minor": 0
      },
      "text/plain": [
       "Downloading (…)lve/main/config.json:   0%|          | 0.00/702 [00:00<?, ?B/s]"
      ]
     },
     "metadata": {},
     "output_type": "display_data"
    },
    {
     "data": {
      "application/vnd.jupyter.widget-view+json": {
       "model_id": "5d48caab2e044fd48d608987af65bef4",
       "version_major": 2,
       "version_minor": 0
      },
      "text/plain": [
       "Downloading pytorch_model.bin:   0%|          | 0.00/904M [00:00<?, ?B/s]"
      ]
     },
     "metadata": {},
     "output_type": "display_data"
    }
   ],
   "source": [
    "tokenizer = AutoTokenizer.from_pretrained(CFG['model_arch'])\n",
    "model = AutoModelForSeq2SeqLM.from_pretrained(CFG['model_arch'])\n",
    "model = model.to(device)"
   ]
  },
  {
   "cell_type": "code",
   "execution_count": 9,
   "id": "cb51ff2a",
   "metadata": {
    "execution": {
     "iopub.execute_input": "2023-10-17T07:11:33.221234Z",
     "iopub.status.busy": "2023-10-17T07:11:33.220791Z",
     "iopub.status.idle": "2023-10-17T07:11:37.112713Z",
     "shell.execute_reply": "2023-10-17T07:11:37.111066Z"
    },
    "papermill": {
     "duration": 3.901254,
     "end_time": "2023-10-17T07:11:37.115523",
     "exception": false,
     "start_time": "2023-10-17T07:11:33.214269",
     "status": "completed"
    },
    "tags": []
   },
   "outputs": [
    {
     "name": "stdout",
     "output_type": "stream",
     "text": [
      "No. of sentences in article:  26\n",
      "Embedding size:  torch.Size([26, 80, 768])\n"
     ]
    }
   ],
   "source": [
    "def t5_embedding(text):\n",
    "    ## Extract input ids\n",
    "    input_ids = tokenizer(text,\n",
    "                    max_length=CFG['text_len'],\n",
    "                    pad_to_max_length=True,\n",
    "                    truncation=True,\n",
    "                    padding=\"max_length\",\n",
    "                    return_tensors=\"pt\",\n",
    "                   )['input_ids']\n",
    "    \n",
    "    ## Calculate embeddings\n",
    "    embeddings = []\n",
    "    for i in range(0, len(input_ids), CFG['batch_size']):\n",
    "        batch = input_ids[i:i+CFG['batch_size']]\n",
    "        emb = model.base_model.encoder(batch, return_dict=True).last_hidden_state\n",
    "        embeddings.append(emb.detach())\n",
    "    \n",
    "    ## Stack embedding batches\n",
    "    embeddings = torch.concat(embeddings)\n",
    "    \n",
    "    return embeddings\n",
    "\n",
    "if CFG['show_examples']:\n",
    "    idx = 10\n",
    "    source_dir_list = df['original_dir'][idx]\n",
    "    source_text = []\n",
    "    for i in range(len(source_dir_list)):\n",
    "        txt = read_txt(source_dir_list[i], article_type=\"original\", sent=True)\n",
    "        source_text += txt\n",
    "\n",
    "    target_dir_list = df['summary_dir'][idx]\n",
    "    target_text = read_txt(target_dir_list[0], article_type=\"summary\")\n",
    "    \n",
    "    print(\"No. of sentences in article: \", len(source_text))\n",
    "    embeddings = t5_embedding(source_text)\n",
    "    print(\"Embedding size: \", embeddings.size())"
   ]
  },
  {
   "cell_type": "markdown",
   "id": "c1b9b286",
   "metadata": {
    "papermill": {
     "duration": 0.005211,
     "end_time": "2023-10-17T07:11:37.127404",
     "exception": false,
     "start_time": "2023-10-17T07:11:37.122193",
     "status": "completed"
    },
    "tags": []
   },
   "source": [
    "## Similarity matrix"
   ]
  },
  {
   "cell_type": "code",
   "execution_count": 10,
   "id": "24cb83b1",
   "metadata": {
    "execution": {
     "iopub.execute_input": "2023-10-17T07:11:37.140169Z",
     "iopub.status.busy": "2023-10-17T07:11:37.139744Z",
     "iopub.status.idle": "2023-10-17T07:11:37.821322Z",
     "shell.execute_reply": "2023-10-17T07:11:37.820512Z"
    },
    "papermill": {
     "duration": 0.690516,
     "end_time": "2023-10-17T07:11:37.823186",
     "exception": false,
     "start_time": "2023-10-17T07:11:37.132670",
     "status": "completed"
    },
    "tags": []
   },
   "outputs": [
    {
     "name": "stdout",
     "output_type": "stream",
     "text": [
      "(26, 26)\n"
     ]
    },
    {
     "data": {
      "image/png": "[encoded data removed]",
      "text/plain": [
       "<Figure size 640x480 with 2 Axes>"
      ]
     },
     "metadata": {},
     "output_type": "display_data"
    }
   ],
   "source": [
    "def sim_matrix(embeddings):\n",
    "    mat_size = embeddings.shape[0]\n",
    "    sim_mat = torch.zeros([mat_size, mat_size])\n",
    "    for i in range(mat_size):\n",
    "        for j in range(mat_size):\n",
    "            if i != j:\n",
    "                sent1 = embeddings[i,:].reshape(1,-1)\n",
    "                sent2 = embeddings[j,:].reshape(1,-1)\n",
    "                sim_mat[i][j] = F.cosine_similarity(sent1, sent2)\n",
    "    sim_mat = sim_mat.detach().cpu().numpy()\n",
    "    return sim_mat\n",
    "\n",
    "if CFG['show_examples']:\n",
    "    sim_mat = sim_matrix(embeddings)\n",
    "    print(sim_mat.shape)\n",
    "    sns.heatmap(sim_mat)"
   ]
  },
  {
   "cell_type": "markdown",
   "id": "8026772f",
   "metadata": {
    "papermill": {
     "duration": 0.00557,
     "end_time": "2023-10-17T07:11:37.834846",
     "exception": false,
     "start_time": "2023-10-17T07:11:37.829276",
     "status": "completed"
    },
    "tags": []
   },
   "source": [
    "## Page Rank"
   ]
  },
  {
   "cell_type": "code",
   "execution_count": 11,
   "id": "4f40aa28",
   "metadata": {
    "execution": {
     "iopub.execute_input": "2023-10-17T07:11:37.848463Z",
     "iopub.status.busy": "2023-10-17T07:11:37.847951Z",
     "iopub.status.idle": "2023-10-17T07:11:37.856669Z",
     "shell.execute_reply": "2023-10-17T07:11:37.855359Z"
    },
    "papermill": {
     "duration": 0.018147,
     "end_time": "2023-10-17T07:11:37.858663",
     "exception": false,
     "start_time": "2023-10-17T07:11:37.840516",
     "status": "completed"
    },
    "tags": []
   },
   "outputs": [
    {
     "data": {
      "text/plain": [
       "['Ngày 19-5, tại Trung tâm Pháp y Đà Nẵng, Khoa Y dược, ĐH Đà Nẵng long trọng tổ chức lễ tri ân (Macchabée) những người đã hiến xác cho sự nghiệp đào tạo và nghiên cứu y khoa.',\n",
       " 'Tại Lễ tri ân, những cán bộ, giảng viên và sinh viên Khoa Y dược thành kính dâng hoa, hương tưởng nhớ công lao những người thầm lặng hiến xác vì sự phát triển y học. Giải phẫu học là bộ môn xương sống trong đào tạo y khoa và những tiêu bản-thi hài phục vụ cho đào tạo rất quý giá và đáng trân trọng.',\n",
       " 'Được biết, năm 2007, Khoa Y dược, ĐH Đà Nẵng phối hợp với ĐH Y Dược thành phố Hồ Chí Minh tuyển sinh đào tạo Y khoa. Từ năm 2008, khoa tiếp nhận 2 tiêu bản nhân thể từ ĐH Y Dược thành phố Hồ Chí Minh về đặt tại Bệnh viện Đà Nẵng và tiếp tục tiếp nhận 2 tiêu bản nhân thể mới. Bộ môn giải phẫu học được đưa vào giảng dạy thực hành cho sinh viên bác sĩ đa khoa, hệ liên thông, tại Khoa Y dược ĐH Đà Nẵng khóa 2011-2015 và khóa 2012-2016.',\n",
       " 'Hơn 300 sinh viên khoa Y dược cùng thầy cô, cán bộ khoa đã có mặt tại lễ tri ân. Tại đây, các bạn sinh viên đã được thầy cô trong khoa ôn lại lịch sử phát triển của ngành y khoa và bộ môn giải phẫu học. Đặc biệt là sự đóng góp của những thi hài người hiến xác là rất lớn và có ý nghĩa đối với ngành y khoa.',\n",
       " 'Theo đó, những người hiến xác đã âm thầm hi sinh quyền lợi của bản thân mình và gia đình cho sự nghiệp đào tạo và nghiên cứu y khoa.',\n",
       " 'Được biết, từ năm 2007, Khoa Y dược – Đại học Đà Nẵng đã phối hợp với ĐH Y dược TPHCM tuyển sinh đào tạo y khoa. Từ năm 2008, khoa đã tiếp nhận 2 tiêu bản nhân thể từ ĐH Y dược TP HCM về đặt tại BV Đa khoa Đà Nẵng, bộ môn Giải phẩu học đã được đưa vào giảng dạy tại khoa từ năm 2011.',\n",
       " 'Tiếp đó, Khoa y dược tiếp tục nhận 2 tiêu bản nhân thể mới và với sự giúp đỡ của Trung tâm Pháp y TP, Đà Nẵng đã đặt 2 tiêu bản nhân thể mới vào bộ môn giải phẩu học.',\n",
       " 'Phát biểu tại buổi lễ tri ân, TS.BS Phan Thế Phước Long - Phó trưởng khoa y dược (ĐH Đà Nẵng) - cho biết: “Những thi hài của các cô, bác, anh, chị đã tình nguyện hiến cho y khoa là những thi hài trang nghiêm trong giảng đường của bộ môn giải phẩu, những người mà suốt cuộc đời học nghề và hành nghề sinh viên và thầy thuốc chúng tôi luôn mãi mãi mang nặng nghĩa ân. Những thi thế là phương tiện vô giá, quý nhất trong giáo dục và đào tạo y khoa. Hình ảnh đó sẽ luôn khắc sâu trong tâm trí và đi theo mãi với chúng tôi trong suốt quảng đời học nghề và hành nghề”.',\n",
       " 'Khoa y dược Đại học Đà Nẵng hiện đào tạo gần 1.000 sinh viên ngành y. Từ năm 2008 đến nay đơn vị này đã tiếp nhận 4 thi hài của người hiến tặng từ TP.HCM phục vụ quá trình đào tạo. Bác sĩ Nguyễn Đăng Quốc Chấn, trưởng khoa y dược, chia sẻ: “Hành động hiến tặng thi hài cho y học là việc làm cao đẹp. Những thi hài là tài sản vô giá, là người thầy thầm lặng không thể thiếu giúp đào tạo nên người bác sĩ”.',\n",
       " 'Lễ Macchabée thường được tổ chức tại các nước phương Tây trong dịp Giáng sinh. Người tham dự sẽ khiêu vũ để biểu thị lòng biết ơn những người đã hiến thi hài cho khoa học. Đây là lần đầu tiên khoa y dược Đại học Đà Nẵng tổ chức lễ Macchabée.',\n",
       " 'Ngày 19/5, tại Trung tâm Pháp y Đà Nẵng, Khoa Y dược (Đại học Đà Nẵng) tổ chức lễ Macchabée - Tri ân những người đã hiến thi hài cho sự nghiệp đào tạo và nghiên cứu y khoa. Các sinh viên tự tay kết đài sen, gấp hạc giấy và rải hoa cúc dọc đường đi.',\n",
       " 'Đây là lần đầu tiên buổi lễ được tổ chức tại Đà Nẵng, với sự góp mặt của lãnh đạo, giảng viên cùng hơn 300 sinh viên. \"Sự cống hiến, hy sinh của cô, bác, anh, chị tuy âm thầm, không có tượng đồng, bia đá nhưng trong trái tim của thầy trò chúng tôi là những người thầy bất tử...\", lãnh đạo khoa Y dược Đại học Đà Nẵng đọc văn tế tri ân.',\n",
       " 'Cuối buổi lễ, các sinh viên cầm đài sen đã đốt nến, trang nghiêm xếp thành hàng dài rước hương án đến nơi đặt thi hài những người hiến xác. Phía bên trong phòng, hai thi hài được đặt dưới những tràng hoa và nến. Tất cả đều thành kính trong một buổi lễ đặc biệt, ít người biết đến.',\n",
       " '\"Đây là cơ hội để chúng em tri ân những người hiến xác cho y học. Chính nhờ sự cống hiến đó, chúng em mới có được cơ hội thực hành giải phẫu trên cơ thể người để học và hành nghề sau này\", Võ Tùng, sinh viên lớp YK 14, nói.',\n",
       " 'Đại diện khoa Y dược, Đại học Đà Nẵng cho biết, những năm tiếp theo, trường sẽ tổ chức để tri ân những người hiến xác cho khoa học và giáo dục y đức cho sinh viên.',\n",
       " 'Le Macchabée có nguồn gốc từ phương Tây khoảng hồi đầu thế kỷ XVI. Tên của lễ được đặt theo tên của bác sĩ Judas Macchabée người Pháp, người đã cùng đồng nghiệp và học trò lén đào mộ, lấy trộm tử thi mới đem chôn hoặc đưa xác chết vô thừa nhận ngoài đường về bí mật giấu trong hầm rượu để mổ xẻ, tìm hiểu các quy luật vận động... nhằm phục vụ cho y khoa.',\n",
       " 'Những buổi lễ Macchabée lần đầu tiên được tổ chức ở Việt Nam vào khoảng đầu thế kỷ 20, khi trường đại học y khoa đầu tiên được thành lập với Hiệu trưởng là bác sĩ Alexandre Yersin. Lễ này sau đó bị gián đoạn trong thời gian dài và đến năm 1990 được Đại học Y dược TP HCM khôi phục.',\n",
       " 'Ngày 19/5, Khoa Y dược (ĐH Đà Nẵng) tổ chức lễ Macchabée tri ân những người đã hiến xác cho công tác giáo dục và y khoa.',\n",
       " 'Khoảng 300 sinh viên Khoa Y dược khoác áo Blue kết đài sen, gấp hạc giấy và rải hoa cúc dọc đường đi. Các sinh viên cho biết, đã tự tay làm những đài sen bằng giấy để tỏ lòng tưởng nhớ, biết ơn những người hiến xác cho bộ môn Giải phẫu học.',\n",
       " 'Hoa cúc vàng được sinh viên rải dọc trên lối dẫn vào nhà đặt thi hài.',\n",
       " 'Sinh viên ngành Y dược rước hương án đến nơi đặt thi hài những người hiến xác.',\n",
       " 'Bác sĩ Phan Bảo Khánh, Phó Chủ tịch Hội hình thể Việt Nam cho biết, những người hiến xác có thể có tên, có thể không tên nhưng tất cả đều được tri ân vì đóng góp của mình.',\n",
       " 'Đây là lần đầu tiên ở Đà Nẵng có lễ Macchabée. Nghi lễ này bắt nguồn từ phương Tây vào khoảng đầu thế kỷ XVI mang tên một bác sỹ người Pháp có công lớn với bộ môn Giải phẫu học.',\n",
       " 'Những buổi lễ Macchabée lần đầu tiên được tổ chức ở Việt Nam vào khoảng đầu thế kỷ 20, khi Trường ĐH Y khoa đầu tiên được thành lập. Hiệu trưởng là bác sĩ Alexandre Yersin. Sau đó, lễ bị gián đoạn trong một thời gian dài. Đến năm 1990 mới được khôi phục trở lại Trường ĐH Y dược TP. HCM.',\n",
       " 'Sinh viên Đà Nẵng tỏ lòng thành kính trong nghi lễ tri ân người hiến xác.',\n",
       " 'Lãnh đạo Khoa Y dược (ĐH Đà Nẵng) đọc văn tế tưởng nhớ những người hiến xác.']"
      ]
     },
     "execution_count": 11,
     "metadata": {},
     "output_type": "execute_result"
    }
   ],
   "source": [
    "source_text"
   ]
  },
  {
   "cell_type": "code",
   "execution_count": 12,
   "id": "918a7360",
   "metadata": {
    "execution": {
     "iopub.execute_input": "2023-10-17T07:11:37.872919Z",
     "iopub.status.busy": "2023-10-17T07:11:37.872470Z",
     "iopub.status.idle": "2023-10-17T07:11:37.879759Z",
     "shell.execute_reply": "2023-10-17T07:11:37.878518Z"
    },
    "papermill": {
     "duration": 0.017254,
     "end_time": "2023-10-17T07:11:37.882001",
     "exception": false,
     "start_time": "2023-10-17T07:11:37.864747",
     "status": "completed"
    },
    "tags": []
   },
   "outputs": [
    {
     "data": {
      "text/plain": [
       "'Sự đóng góp của những thi hài người hiến xác là rất lớn và có ý nghĩa đối với ngành y khoa. Các sinh viên cho biết, đã tự tay làm những đài sen bằng giấy để tỏ lòng tưởng nhớ, biết ơn những người hiến xác cho bộ môn Giải phẫu học. Đây là lần đầu tiên buổi lễ được tổ chức tại Đà Nẵng, với sự góp mặt của lãnh đạo, giảng viên cùng hơn 300 sinh viên.'"
      ]
     },
     "execution_count": 12,
     "metadata": {},
     "output_type": "execute_result"
    }
   ],
   "source": [
    "target_text"
   ]
  },
  {
   "cell_type": "code",
   "execution_count": 13,
   "id": "f9817a0f",
   "metadata": {
    "execution": {
     "iopub.execute_input": "2023-10-17T07:11:37.896212Z",
     "iopub.status.busy": "2023-10-17T07:11:37.895762Z",
     "iopub.status.idle": "2023-10-17T07:11:37.915598Z",
     "shell.execute_reply": "2023-10-17T07:11:37.914348Z"
    },
    "papermill": {
     "duration": 0.029537,
     "end_time": "2023-10-17T07:11:37.917648",
     "exception": false,
     "start_time": "2023-10-17T07:11:37.888111",
     "status": "completed"
    },
    "tags": []
   },
   "outputs": [
    {
     "name": "stdout",
     "output_type": "stream",
     "text": [
      "Sinh viên ngành Y dược rước hương án đến nơi đặt thi hài những người hiến xác.\n",
      "Sinh viên Đà Nẵng tỏ lòng thành kính trong nghi lễ tri ân người hiến xác.\n",
      "Ngày 19/5, Khoa Y dược (ĐH Đà Nẵng) tổ chức lễ Macchabée tri ân những người đã hiến xác cho công tác giáo dục và y khoa.\n",
      "Hoa cúc vàng được sinh viên rải dọc trên lối dẫn vào nhà đặt thi hài.\n",
      "Đại diện khoa Y dược, Đại học Đà Nẵng cho biết, những năm tiếp theo, trường sẽ tổ chức để tri ân những người hiến xác cho khoa học và giáo dục y đức cho sinh viên.\n",
      "Lãnh đạo Khoa Y dược (ĐH Đà Nẵng) đọc văn tế tưởng nhớ những người hiến xác.\n",
      "Theo đó, những người hiến xác đã âm thầm hi sinh quyền lợi của bản thân mình và gia đình cho sự nghiệp đào tạo và nghiên cứu y khoa.\n",
      "Đây là lần đầu tiên ở Đà Nẵng có lễ Macchabée. Nghi lễ này bắt nguồn từ phương Tây vào khoảng đầu thế kỷ XVI mang tên một bác sỹ người Pháp có công lớn với bộ môn Giải phẫu học.\n",
      "Bác sĩ Phan Bảo Khánh, Phó Chủ tịch Hội hình thể Việt Nam cho biết, những người hiến xác có thể có tên, có thể không tên nhưng tất cả đều được tri ân vì đóng góp của mình.\n",
      "Tiếp đó, Khoa y dược tiếp tục nhận 2 tiêu bản nhân thể mới và với sự giúp đỡ của Trung tâm Pháp y TP, Đà Nẵng đã đặt 2 tiêu bản nhân thể mới vào bộ môn giải phẩu học.\n",
      "Ngày 19-5, tại Trung tâm Pháp y Đà Nẵng, Khoa Y dược, ĐH Đà Nẵng long trọng tổ chức lễ tri ân (Macchabée) những người đã hiến xác cho sự nghiệp đào tạo và nghiên cứu y khoa.\n",
      "Lễ Macchabée thường được tổ chức tại các nước phương Tây trong dịp Giáng sinh. Người tham dự sẽ khiêu vũ để biểu thị lòng biết ơn những người đã hiến thi hài cho khoa học. Đây là lần đầu tiên khoa y dược Đại học Đà Nẵng tổ chức lễ Macchabée.\n",
      "Khoảng 300 sinh viên Khoa Y dược khoác áo Blue kết đài sen, gấp hạc giấy và rải hoa cúc dọc đường đi. Các sinh viên cho biết, đã tự tay làm những đài sen bằng giấy để tỏ lòng tưởng nhớ, biết ơn những người hiến xác cho bộ môn Giải phẫu học.\n",
      "\"Đây là cơ hội để chúng em tri ân những người hiến xác cho y học. Chính nhờ sự cống hiến đó, chúng em mới có được cơ hội thực hành giải phẫu trên cơ thể người để học và hành nghề sau này\", Võ Tùng, sinh viên lớp YK 14, nói.\n",
      "Những buổi lễ Macchabée lần đầu tiên được tổ chức ở Việt Nam vào khoảng đầu thế kỷ 20, khi trường đại học y khoa đầu tiên được thành lập với Hiệu trưởng là bác sĩ Alexandre Yersin. Lễ này sau đó bị gián đoạn trong thời gian dài và đến năm 1990 được Đại học Y dược TP HCM khôi phục.\n"
     ]
    }
   ],
   "source": [
    "nx_graph = nx.from_numpy_array(sim_mat)\n",
    "scores = nx.pagerank(nx_graph)\n",
    "ranked_sentences = sorted(((scores[i],s) for i,s in enumerate(source_text)), reverse=True)\n",
    "# Extract top 10 sentences as the summary\n",
    "for i in range(15):\n",
    "    print(ranked_sentences[i][1])"
   ]
  },
  {
   "cell_type": "code",
   "execution_count": null,
   "id": "5c6375d8",
   "metadata": {
    "papermill": {
     "duration": 0.006055,
     "end_time": "2023-10-17T07:11:37.930179",
     "exception": false,
     "start_time": "2023-10-17T07:11:37.924124",
     "status": "completed"
    },
    "tags": []
   },
   "outputs": [],
   "source": []
  }
 ],
 "metadata": {
  "kernelspec": {
   "display_name": "Python 3",
   "language": "python",
   "name": "python3"
  },
  "language_info": {
   "codemirror_mode": {
    "name": "ipython",
    "version": 3
   },
   "file_extension": ".py",
   "mimetype": "text/x-python",
   "name": "python",
   "nbconvert_exporter": "python",
   "pygments_lexer": "ipython3",
   "version": "3.10.12"
  },
  "papermill": {
   "default_parameters": {},
   "duration": 96.406788,
   "end_time": "2023-10-17T07:11:41.596434",
   "environment_variables": {},
   "exception": null,
   "input_path": "__notebook__.ipynb",
   "output_path": "__notebook__.ipynb",
   "parameters": {},
   "start_time": "2023-10-17T07:10:05.189646",
   "version": "2.4.0"
  },
  "widgets": {
   "application/vnd.jupyter.widget-state+json": {
    "state": {
     "0321fbac289444a58f1936f06bee4090": {
      "model_module": "@jupyter-widgets/controls",
      "model_module_version": "1.5.0",
      "model_name": "ProgressStyleModel",
      "state": {
       "_model_module": "@jupyter-widgets/controls",
       "_model_module_version": "1.5.0",
       "_model_name": "ProgressStyleModel",
       "_view_count": null,
       "_view_module": "@jupyter-widgets/base",
       "_view_module_version": "1.2.0",
       "_view_name": "StyleView",
       "bar_color": null,
       "description_width": ""
      }
     },
     "0682e7acef9b4106a34c9d2178d637a1": {
      "model_module": "@jupyter-widgets/controls",
      "model_module_version": "1.5.0",
      "model_name": "HTMLModel",
      "state": {
       "_dom_classes": [],
       "_model_module": "@jupyter-widgets/controls",
       "_model_module_version": "1.5.0",
       "_model_name": "HTMLModel",
       "_view_count": null,
       "_view_module": "@jupyter-widgets/controls",
       "_view_module_version": "1.5.0",
       "_view_name": "HTMLView",
       "description": "",
       "description_tooltip": null,
       "layout": "IPY_MODEL_b9cfe5d403ff4f4c97de336b5d719724",
       "placeholder": "​",
       "style": "IPY_MODEL_571adf7f50b84f7b9dab7f62578b5c40",
       "value": " 2.12k/2.12k [00:00&lt;00:00, 173kB/s]"
      }
     },
     "074bd6a2e32b4b0591a193cb5b1696ee": {
      "model_module": "@jupyter-widgets/base",
      "model_module_version": "1.2.0",
      "model_name": "LayoutModel",
      "state": {
       "_model_module": "@jupyter-widgets/base",
       "_model_module_version": "1.2.0",
       "_model_name": "LayoutModel",
       "_view_count": null,
       "_view_module": "@jupyter-widgets/base",
       "_view_module_version": "1.2.0",
       "_view_name": "LayoutView",
       "align_content": null,
       "align_items": null,
       "align_self": null,
       "border": null,
       "bottom": null,
       "display": null,
       "flex": null,
       "flex_flow": null,
       "grid_area": null,
       "grid_auto_columns": null,
       "grid_auto_flow": null,
       "grid_auto_rows": null,
       "grid_column": null,
       "grid_gap": null,
       "grid_row": null,
       "grid_template_areas": null,
       "grid_template_columns": null,
       "grid_template_rows": null,
       "height": null,
       "justify_content": null,
       "justify_items": null,
       "left": null,
       "margin": null,
       "max_height": null,
       "max_width": null,
       "min_height": null,
       "min_width": null,
       "object_fit": null,
       "object_position": null,
       "order": null,
       "overflow": null,
       "overflow_x": null,
       "overflow_y": null,
       "padding": null,
       "right": null,
       "top": null,
       "visibility": null,
       "width": null
      }
     },
     "09581153b9c449fc8ae6bfd75ee30c66": {
      "model_module": "@jupyter-widgets/base",
      "model_module_version": "1.2.0",
      "model_name": "LayoutModel",
      "state": {
       "_model_module": "@jupyter-widgets/base",
       "_model_module_version": "1.2.0",
       "_model_name": "LayoutModel",
       "_view_count": null,
       "_view_module": "@jupyter-widgets/base",
       "_view_module_version": "1.2.0",
       "_view_name": "LayoutView",
       "align_content": null,
       "align_items": null,
       "align_self": null,
       "border": null,
       "bottom": null,
       "display": null,
       "flex": null,
       "flex_flow": null,
       "grid_area": null,
       "grid_auto_columns": null,
       "grid_auto_flow": null,
       "grid_auto_rows": null,
       "grid_column": null,
       "grid_gap": null,
       "grid_row": null,
       "grid_template_areas": null,
       "grid_template_columns": null,
       "grid_template_rows": null,
       "height": null,
       "justify_content": null,
       "justify_items": null,
       "left": null,
       "margin": null,
       "max_height": null,
       "max_width": null,
       "min_height": null,
       "min_width": null,
       "object_fit": null,
       "object_position": null,
       "order": null,
       "overflow": null,
       "overflow_x": null,
       "overflow_y": null,
       "padding": null,
       "right": null,
       "top": null,
       "visibility": null,
       "width": null
      }
     },
     "0975be64a11845439dd62b1b7f5a828e": {
      "model_module": "@jupyter-widgets/base",
      "model_module_version": "1.2.0",
      "model_name": "LayoutModel",
      "state": {
       "_model_module": "@jupyter-widgets/base",
       "_model_module_version": "1.2.0",
       "_model_name": "LayoutModel",
       "_view_count": null,
       "_view_module": "@jupyter-widgets/base",
       "_view_module_version": "1.2.0",
       "_view_name": "LayoutView",
       "align_content": null,
       "align_items": null,
       "align_self": null,
       "border": null,
       "bottom": null,
       "display": null,
       "flex": null,
       "flex_flow": null,
       "grid_area": null,
       "grid_auto_columns": null,
       "grid_auto_flow": null,
       "grid_auto_rows": null,
       "grid_column": null,
       "grid_gap": null,
       "grid_row": null,
       "grid_template_areas": null,
       "grid_template_columns": null,
       "grid_template_rows": null,
       "height": null,
       "justify_content": null,
       "justify_items": null,
       "left": null,
       "margin": null,
       "max_height": null,
       "max_width": null,
       "min_height": null,
       "min_width": null,
       "object_fit": null,
       "object_position": null,
       "order": null,
       "overflow": null,
       "overflow_x": null,
       "overflow_y": null,
       "padding": null,
       "right": null,
       "top": null,
       "visibility": null,
       "width": null
      }
     },
     "0ad3a8e2c62b4ad59516a665224fdb2f": {
      "model_module": "@jupyter-widgets/base",
      "model_module_version": "1.2.0",
      "model_name": "LayoutModel",
      "state": {
       "_model_module": "@jupyter-widgets/base",
       "_model_module_version": "1.2.0",
       "_model_name": "LayoutModel",
       "_view_count": null,
       "_view_module": "@jupyter-widgets/base",
       "_view_module_version": "1.2.0",
       "_view_name": "LayoutView",
       "align_content": null,
       "align_items": null,
       "align_self": null,
       "border": null,
       "bottom": null,
       "display": null,
       "flex": null,
       "flex_flow": null,
       "grid_area": null,
       "grid_auto_columns": null,
       "grid_auto_flow": null,
       "grid_auto_rows": null,
       "grid_column": null,
       "grid_gap": null,
       "grid_row": null,
       "grid_template_areas": null,
       "grid_template_columns": null,
       "grid_template_rows": null,
       "height": null,
       "justify_content": null,
       "justify_items": null,
       "left": null,
       "margin": null,
       "max_height": null,
       "max_width": null,
       "min_height": null,
       "min_width": null,
       "object_fit": null,
       "object_position": null,
       "order": null,
       "overflow": null,
       "overflow_x": null,
       "overflow_y": null,
       "padding": null,
       "right": null,
       "top": null,
       "visibility": null,
       "width": null
      }
     },
     "0d8f649345cc4f8383896893cd9a1e06": {
      "model_module": "@jupyter-widgets/controls",
      "model_module_version": "1.5.0",
      "model_name": "FloatProgressModel",
      "state": {
       "_dom_classes": [],
       "_model_module": "@jupyter-widgets/controls",
       "_model_module_version": "1.5.0",
       "_model_name": "FloatProgressModel",
       "_view_count": null,
       "_view_module": "@jupyter-widgets/controls",
       "_view_module_version": "1.5.0",
       "_view_name": "ProgressView",
       "bar_style": "success",
       "description": "",
       "description_tooltip": null,
       "layout": "IPY_MODEL_905e9ff16b544ac3aa14e392694e42fc",
       "max": 2117.0,
       "min": 0.0,
       "orientation": "horizontal",
       "style": "IPY_MODEL_b848476bce9943d786b895a74288d217",
       "value": 2117.0
      }
     },
     "1235e76fc3ac4bd7b3fbc82a31db4ba5": {
      "model_module": "@jupyter-widgets/controls",
      "model_module_version": "1.5.0",
      "model_name": "HBoxModel",
      "state": {
       "_dom_classes": [],
       "_model_module": "@jupyter-widgets/controls",
       "_model_module_version": "1.5.0",
       "_model_name": "HBoxModel",
       "_view_count": null,
       "_view_module": "@jupyter-widgets/controls",
       "_view_module_version": "1.5.0",
       "_view_name": "HBoxView",
       "box_style": "",
       "children": [
        "IPY_MODEL_da0a6866fc61450bb012ec8e71172425",
        "IPY_MODEL_12419985a66f4d0d8deb80fbcb838a94",
        "IPY_MODEL_c1aa5d9a4ab945d58c942ab545159eb8"
       ],
       "layout": "IPY_MODEL_890bc7476ab4439f9168c3f8fdf421c7"
      }
     },
     "12419985a66f4d0d8deb80fbcb838a94": {
      "model_module": "@jupyter-widgets/controls",
      "model_module_version": "1.5.0",
      "model_name": "FloatProgressModel",
      "state": {
       "_dom_classes": [],
       "_model_module": "@jupyter-widgets/controls",
       "_model_module_version": "1.5.0",
       "_model_name": "FloatProgressModel",
       "_view_count": null,
       "_view_module": "@jupyter-widgets/controls",
       "_view_module_version": "1.5.0",
       "_view_name": "ProgressView",
       "bar_style": "success",
       "description": "",
       "description_tooltip": null,
       "layout": "IPY_MODEL_bd871468304140208bd65c4a6ec46a34",
       "max": 820370.0,
       "min": 0.0,
       "orientation": "horizontal",
       "style": "IPY_MODEL_254ba29c1439418bb9c711429ae5791d",
       "value": 820370.0
      }
     },
     "168189757ad84e298640fa7ea65434f3": {
      "model_module": "@jupyter-widgets/controls",
      "model_module_version": "1.5.0",
      "model_name": "ProgressStyleModel",
      "state": {
       "_model_module": "@jupyter-widgets/controls",
       "_model_module_version": "1.5.0",
       "_model_name": "ProgressStyleModel",
       "_view_count": null,
       "_view_module": "@jupyter-widgets/base",
       "_view_module_version": "1.2.0",
       "_view_name": "StyleView",
       "bar_color": null,
       "description_width": ""
      }
     },
     "17c641570f104e1496fdea6d4ff559dd": {
      "model_module": "@jupyter-widgets/controls",
      "model_module_version": "1.5.0",
      "model_name": "HBoxModel",
      "state": {
       "_dom_classes": [],
       "_model_module": "@jupyter-widgets/controls",
       "_model_module_version": "1.5.0",
       "_model_name": "HBoxModel",
       "_view_count": null,
       "_view_module": "@jupyter-widgets/controls",
       "_view_module_version": "1.5.0",
       "_view_name": "HBoxView",
       "box_style": "",
       "children": [
        "IPY_MODEL_648406575fb04028883236eb5585df5f",
        "IPY_MODEL_0d8f649345cc4f8383896893cd9a1e06",
        "IPY_MODEL_0682e7acef9b4106a34c9d2178d637a1"
       ],
       "layout": "IPY_MODEL_7ae4b66c969e4b6783e8881209851de1"
      }
     },
     "19374742b7554be883e1662a764dbe06": {
      "model_module": "@jupyter-widgets/controls",
      "model_module_version": "1.5.0",
      "model_name": "DescriptionStyleModel",
      "state": {
       "_model_module": "@jupyter-widgets/controls",
       "_model_module_version": "1.5.0",
       "_model_name": "DescriptionStyleModel",
       "_view_count": null,
       "_view_module": "@jupyter-widgets/base",
       "_view_module_version": "1.2.0",
       "_view_name": "StyleView",
       "description_width": ""
      }
     },
     "24b6b9fe60ed4a3f865656d357e44902": {
      "model_module": "@jupyter-widgets/controls",
      "model_module_version": "1.5.0",
      "model_name": "FloatProgressModel",
      "state": {
       "_dom_classes": [],
       "_model_module": "@jupyter-widgets/controls",
       "_model_module_version": "1.5.0",
       "_model_name": "FloatProgressModel",
       "_view_count": null,
       "_view_module": "@jupyter-widgets/controls",
       "_view_module_version": "1.5.0",
       "_view_name": "ProgressView",
       "bar_style": "success",
       "description": "",
       "description_tooltip": null,
       "layout": "IPY_MODEL_55fb025ca7634de49f1206ffb5e3954b",
       "max": 2399296.0,
       "min": 0.0,
       "orientation": "horizontal",
       "style": "IPY_MODEL_0321fbac289444a58f1936f06bee4090",
       "value": 2399296.0
      }
     },
     "254ba29c1439418bb9c711429ae5791d": {
      "model_module": "@jupyter-widgets/controls",
      "model_module_version": "1.5.0",
      "model_name": "ProgressStyleModel",
      "state": {
       "_model_module": "@jupyter-widgets/controls",
       "_model_module_version": "1.5.0",
       "_model_name": "ProgressStyleModel",
       "_view_count": null,
       "_view_module": "@jupyter-widgets/base",
       "_view_module_version": "1.2.0",
       "_view_name": "StyleView",
       "bar_color": null,
       "description_width": ""
      }
     },
     "280a16c1cc5c46fbaac1c49c96937094": {
      "model_module": "@jupyter-widgets/controls",
      "model_module_version": "1.5.0",
      "model_name": "DescriptionStyleModel",
      "state": {
       "_model_module": "@jupyter-widgets/controls",
       "_model_module_version": "1.5.0",
       "_model_name": "DescriptionStyleModel",
       "_view_count": null,
       "_view_module": "@jupyter-widgets/base",
       "_view_module_version": "1.2.0",
       "_view_name": "StyleView",
       "description_width": ""
      }
     },
     "3328c5c934774e48a8eee3ef0b428701": {
      "model_module": "@jupyter-widgets/controls",
      "model_module_version": "1.5.0",
      "model_name": "HTMLModel",
      "state": {
       "_dom_classes": [],
       "_model_module": "@jupyter-widgets/controls",
       "_model_module_version": "1.5.0",
       "_model_name": "HTMLModel",
       "_view_count": null,
       "_view_module": "@jupyter-widgets/controls",
       "_view_module_version": "1.5.0",
       "_view_name": "HTMLView",
       "description": "",
       "description_tooltip": null,
       "layout": "IPY_MODEL_ff953d3e034047ac9cc9b311f4dbdca6",
       "placeholder": "​",
       "style": "IPY_MODEL_57848dfa99824fca8984744b2c44cb5b",
       "value": "Downloading (…)okenizer_config.json: 100%"
      }
     },
     "33a5189c2e4a4b7688b395fa394da020": {
      "model_module": "@jupyter-widgets/base",
      "model_module_version": "1.2.0",
      "model_name": "LayoutModel",
      "state": {
       "_model_module": "@jupyter-widgets/base",
       "_model_module_version": "1.2.0",
       "_model_name": "LayoutModel",
       "_view_count": null,
       "_view_module": "@jupyter-widgets/base",
       "_view_module_version": "1.2.0",
       "_view_name": "LayoutView",
       "align_content": null,
       "align_items": null,
       "align_self": null,
       "border": null,
       "bottom": null,
       "display": null,
       "flex": null,
       "flex_flow": null,
       "grid_area": null,
       "grid_auto_columns": null,
       "grid_auto_flow": null,
       "grid_auto_rows": null,
       "grid_column": null,
       "grid_gap": null,
       "grid_row": null,
       "grid_template_areas": null,
       "grid_template_columns": null,
       "grid_template_rows": null,
       "height": null,
       "justify_content": null,
       "justify_items": null,
       "left": null,
       "margin": null,
       "max_height": null,
       "max_width": null,
       "min_height": null,
       "min_width": null,
       "object_fit": null,
       "object_position": null,
       "order": null,
       "overflow": null,
       "overflow_x": null,
       "overflow_y": null,
       "padding": null,
       "right": null,
       "top": null,
       "visibility": null,
       "width": null
      }
     },
     "3d0fef6e1e1c43a98188ed7787873fac": {
      "model_module": "@jupyter-widgets/controls",
      "model_module_version": "1.5.0",
      "model_name": "HBoxModel",
      "state": {
       "_dom_classes": [],
       "_model_module": "@jupyter-widgets/controls",
       "_model_module_version": "1.5.0",
       "_model_name": "HBoxModel",
       "_view_count": null,
       "_view_module": "@jupyter-widgets/controls",
       "_view_module_version": "1.5.0",
       "_view_name": "HBoxView",
       "box_style": "",
       "children": [
        "IPY_MODEL_3328c5c934774e48a8eee3ef0b428701",
        "IPY_MODEL_d0e766cf834f4218bc78f9fcd8712438",
        "IPY_MODEL_b83bf16274dd4eb4924207a0ebfbb5c1"
       ],
       "layout": "IPY_MODEL_7b79a482813f481da4df5c5a052ee917"
      }
     },
     "41cb3ab896fc4661b507eb283b9208c2": {
      "model_module": "@jupyter-widgets/controls",
      "model_module_version": "1.5.0",
      "model_name": "DescriptionStyleModel",
      "state": {
       "_model_module": "@jupyter-widgets/controls",
       "_model_module_version": "1.5.0",
       "_model_name": "DescriptionStyleModel",
       "_view_count": null,
       "_view_module": "@jupyter-widgets/base",
       "_view_module_version": "1.2.0",
       "_view_name": "StyleView",
       "description_width": ""
      }
     },
     "43cacea3dec5413391997494eeea49d5": {
      "model_module": "@jupyter-widgets/base",
      "model_module_version": "1.2.0",
      "model_name": "LayoutModel",
      "state": {
       "_model_module": "@jupyter-widgets/base",
       "_model_module_version": "1.2.0",
       "_model_name": "LayoutModel",
       "_view_count": null,
       "_view_module": "@jupyter-widgets/base",
       "_view_module_version": "1.2.0",
       "_view_name": "LayoutView",
       "align_content": null,
       "align_items": null,
       "align_self": null,
       "border": null,
       "bottom": null,
       "display": null,
       "flex": null,
       "flex_flow": null,
       "grid_area": null,
       "grid_auto_columns": null,
       "grid_auto_flow": null,
       "grid_auto_rows": null,
       "grid_column": null,
       "grid_gap": null,
       "grid_row": null,
       "grid_template_areas": null,
       "grid_template_columns": null,
       "grid_template_rows": null,
       "height": null,
       "justify_content": null,
       "justify_items": null,
       "left": null,
       "margin": null,
       "max_height": null,
       "max_width": null,
       "min_height": null,
       "min_width": null,
       "object_fit": null,
       "object_position": null,
       "order": null,
       "overflow": null,
       "overflow_x": null,
       "overflow_y": null,
       "padding": null,
       "right": null,
       "top": null,
       "visibility": null,
       "width": null
      }
     },
     "46dcbfaeafb241a1954db64eb76b0788": {
      "model_module": "@jupyter-widgets/base",
      "model_module_version": "1.2.0",
      "model_name": "LayoutModel",
      "state": {
       "_model_module": "@jupyter-widgets/base",
       "_model_module_version": "1.2.0",
       "_model_name": "LayoutModel",
       "_view_count": null,
       "_view_module": "@jupyter-widgets/base",
       "_view_module_version": "1.2.0",
       "_view_name": "LayoutView",
       "align_content": null,
       "align_items": null,
       "align_self": null,
       "border": null,
       "bottom": null,
       "display": null,
       "flex": null,
       "flex_flow": null,
       "grid_area": null,
       "grid_auto_columns": null,
       "grid_auto_flow": null,
       "grid_auto_rows": null,
       "grid_column": null,
       "grid_gap": null,
       "grid_row": null,
       "grid_template_areas": null,
       "grid_template_columns": null,
       "grid_template_rows": null,
       "height": null,
       "justify_content": null,
       "justify_items": null,
       "left": null,
       "margin": null,
       "max_height": null,
       "max_width": null,
       "min_height": null,
       "min_width": null,
       "object_fit": null,
       "object_position": null,
       "order": null,
       "overflow": null,
       "overflow_x": null,
       "overflow_y": null,
       "padding": null,
       "right": null,
       "top": null,
       "visibility": null,
       "width": null
      }
     },
     "497c5247c07e410da0f590e531ca40be": {
      "model_module": "@jupyter-widgets/base",
      "model_module_version": "1.2.0",
      "model_name": "LayoutModel",
      "state": {
       "_model_module": "@jupyter-widgets/base",
       "_model_module_version": "1.2.0",
       "_model_name": "LayoutModel",
       "_view_count": null,
       "_view_module": "@jupyter-widgets/base",
       "_view_module_version": "1.2.0",
       "_view_name": "LayoutView",
       "align_content": null,
       "align_items": null,
       "align_self": null,
       "border": null,
       "bottom": null,
       "display": null,
       "flex": null,
       "flex_flow": null,
       "grid_area": null,
       "grid_auto_columns": null,
       "grid_auto_flow": null,
       "grid_auto_rows": null,
       "grid_column": null,
       "grid_gap": null,
       "grid_row": null,
       "grid_template_areas": null,
       "grid_template_columns": null,
       "grid_template_rows": null,
       "height": null,
       "justify_content": null,
       "justify_items": null,
       "left": null,
       "margin": null,
       "max_height": null,
       "max_width": null,
       "min_height": null,
       "min_width": null,
       "object_fit": null,
       "object_position": null,
       "order": null,
       "overflow": null,
       "overflow_x": null,
       "overflow_y": null,
       "padding": null,
       "right": null,
       "top": null,
       "visibility": null,
       "width": null
      }
     },
     "4da421fda7ad4cb38d08bab0ab4e26ab": {
      "model_module": "@jupyter-widgets/controls",
      "model_module_version": "1.5.0",
      "model_name": "HTMLModel",
      "state": {
       "_dom_classes": [],
       "_model_module": "@jupyter-widgets/controls",
       "_model_module_version": "1.5.0",
       "_model_name": "HTMLModel",
       "_view_count": null,
       "_view_module": "@jupyter-widgets/controls",
       "_view_module_version": "1.5.0",
       "_view_name": "HTMLView",
       "description": "",
       "description_tooltip": null,
       "layout": "IPY_MODEL_ba5591effb794b03b9f39d3bc1eee8b3",
       "placeholder": "​",
       "style": "IPY_MODEL_ad48e0e4634b4bd886baea354e617357",
       "value": " 702/702 [00:00&lt;00:00, 53.3kB/s]"
      }
     },
     "54827dc9cd1540adafc037acc05e4686": {
      "model_module": "@jupyter-widgets/controls",
      "model_module_version": "1.5.0",
      "model_name": "ProgressStyleModel",
      "state": {
       "_model_module": "@jupyter-widgets/controls",
       "_model_module_version": "1.5.0",
       "_model_name": "ProgressStyleModel",
       "_view_count": null,
       "_view_module": "@jupyter-widgets/base",
       "_view_module_version": "1.2.0",
       "_view_name": "StyleView",
       "bar_color": null,
       "description_width": ""
      }
     },
     "55fb025ca7634de49f1206ffb5e3954b": {
      "model_module": "@jupyter-widgets/base",
      "model_module_version": "1.2.0",
      "model_name": "LayoutModel",
      "state": {
       "_model_module": "@jupyter-widgets/base",
       "_model_module_version": "1.2.0",
       "_model_name": "LayoutModel",
       "_view_count": null,
       "_view_module": "@jupyter-widgets/base",
       "_view_module_version": "1.2.0",
       "_view_name": "LayoutView",
       "align_content": null,
       "align_items": null,
       "align_self": null,
       "border": null,
       "bottom": null,
       "display": null,
       "flex": null,
       "flex_flow": null,
       "grid_area": null,
       "grid_auto_columns": null,
       "grid_auto_flow": null,
       "grid_auto_rows": null,
       "grid_column": null,
       "grid_gap": null,
       "grid_row": null,
       "grid_template_areas": null,
       "grid_template_columns": null,
       "grid_template_rows": null,
       "height": null,
       "justify_content": null,
       "justify_items": null,
       "left": null,
       "margin": null,
       "max_height": null,
       "max_width": null,
       "min_height": null,
       "min_width": null,
       "object_fit": null,
       "object_position": null,
       "order": null,
       "overflow": null,
       "overflow_x": null,
       "overflow_y": null,
       "padding": null,
       "right": null,
       "top": null,
       "visibility": null,
       "width": null
      }
     },
     "560ece2c87a74406b80cd07eb371706c": {
      "model_module": "@jupyter-widgets/controls",
      "model_module_version": "1.5.0",
      "model_name": "ProgressStyleModel",
      "state": {
       "_model_module": "@jupyter-widgets/controls",
       "_model_module_version": "1.5.0",
       "_model_name": "ProgressStyleModel",
       "_view_count": null,
       "_view_module": "@jupyter-widgets/base",
       "_view_module_version": "1.2.0",
       "_view_name": "StyleView",
       "bar_color": null,
       "description_width": ""
      }
     },
     "571adf7f50b84f7b9dab7f62578b5c40": {
      "model_module": "@jupyter-widgets/controls",
      "model_module_version": "1.5.0",
      "model_name": "DescriptionStyleModel",
      "state": {
       "_model_module": "@jupyter-widgets/controls",
       "_model_module_version": "1.5.0",
       "_model_name": "DescriptionStyleModel",
       "_view_count": null,
       "_view_module": "@jupyter-widgets/base",
       "_view_module_version": "1.2.0",
       "_view_name": "StyleView",
       "description_width": ""
      }
     },
     "57848dfa99824fca8984744b2c44cb5b": {
      "model_module": "@jupyter-widgets/controls",
      "model_module_version": "1.5.0",
      "model_name": "DescriptionStyleModel",
      "state": {
       "_model_module": "@jupyter-widgets/controls",
       "_model_module_version": "1.5.0",
       "_model_name": "DescriptionStyleModel",
       "_view_count": null,
       "_view_module": "@jupyter-widgets/base",
       "_view_module_version": "1.2.0",
       "_view_name": "StyleView",
       "description_width": ""
      }
     },
     "5d48caab2e044fd48d608987af65bef4": {
      "model_module": "@jupyter-widgets/controls",
      "model_module_version": "1.5.0",
      "model_name": "HBoxModel",
      "state": {
       "_dom_classes": [],
       "_model_module": "@jupyter-widgets/controls",
       "_model_module_version": "1.5.0",
       "_model_name": "HBoxModel",
       "_view_count": null,
       "_view_module": "@jupyter-widgets/controls",
       "_view_module_version": "1.5.0",
       "_view_name": "HBoxView",
       "box_style": "",
       "children": [
        "IPY_MODEL_624500249b74473f86c69146e3e40de5",
        "IPY_MODEL_6cddbce3d8c049fcbe03caf620a969d7",
        "IPY_MODEL_6366377f8b6a4511ab00660a28ad1d97"
       ],
       "layout": "IPY_MODEL_7a9fe3db6ec84cc88e023f46f444e8b3"
      }
     },
     "5e75863901f2428ca87b151572b466c9": {
      "model_module": "@jupyter-widgets/controls",
      "model_module_version": "1.5.0",
      "model_name": "DescriptionStyleModel",
      "state": {
       "_model_module": "@jupyter-widgets/controls",
       "_model_module_version": "1.5.0",
       "_model_name": "DescriptionStyleModel",
       "_view_count": null,
       "_view_module": "@jupyter-widgets/base",
       "_view_module_version": "1.2.0",
       "_view_name": "StyleView",
       "description_width": ""
      }
     },
     "6224dba61c0041c39d2f124c8032ea5e": {
      "model_module": "@jupyter-widgets/controls",
      "model_module_version": "1.5.0",
      "model_name": "DescriptionStyleModel",
      "state": {
       "_model_module": "@jupyter-widgets/controls",
       "_model_module_version": "1.5.0",
       "_model_name": "DescriptionStyleModel",
       "_view_count": null,
       "_view_module": "@jupyter-widgets/base",
       "_view_module_version": "1.2.0",
       "_view_name": "StyleView",
       "description_width": ""
      }
     },
     "624500249b74473f86c69146e3e40de5": {
      "model_module": "@jupyter-widgets/controls",
      "model_module_version": "1.5.0",
      "model_name": "HTMLModel",
      "state": {
       "_dom_classes": [],
       "_model_module": "@jupyter-widgets/controls",
       "_model_module_version": "1.5.0",
       "_model_name": "HTMLModel",
       "_view_count": null,
       "_view_module": "@jupyter-widgets/controls",
       "_view_module_version": "1.5.0",
       "_view_name": "HTMLView",
       "description": "",
       "description_tooltip": null,
       "layout": "IPY_MODEL_43cacea3dec5413391997494eeea49d5",
       "placeholder": "​",
       "style": "IPY_MODEL_96dfeb93661c4ac1976a39096902ed4c",
       "value": "Downloading pytorch_model.bin: 100%"
      }
     },
     "6366377f8b6a4511ab00660a28ad1d97": {
      "model_module": "@jupyter-widgets/controls",
      "model_module_version": "1.5.0",
      "model_name": "HTMLModel",
      "state": {
       "_dom_classes": [],
       "_model_module": "@jupyter-widgets/controls",
       "_model_module_version": "1.5.0",
       "_model_name": "HTMLModel",
       "_view_count": null,
       "_view_module": "@jupyter-widgets/controls",
       "_view_module_version": "1.5.0",
       "_view_name": "HTMLView",
       "description": "",
       "description_tooltip": null,
       "layout": "IPY_MODEL_9328292bd0ba407db5e31206c02a5d1e",
       "placeholder": "​",
       "style": "IPY_MODEL_280a16c1cc5c46fbaac1c49c96937094",
       "value": " 904M/904M [00:15&lt;00:00, 63.6MB/s]"
      }
     },
     "640a965d61c8462c90fa9c1ed9dfc7bc": {
      "model_module": "@jupyter-widgets/controls",
      "model_module_version": "1.5.0",
      "model_name": "HTMLModel",
      "state": {
       "_dom_classes": [],
       "_model_module": "@jupyter-widgets/controls",
       "_model_module_version": "1.5.0",
       "_model_name": "HTMLModel",
       "_view_count": null,
       "_view_module": "@jupyter-widgets/controls",
       "_view_module_version": "1.5.0",
       "_view_name": "HTMLView",
       "description": "",
       "description_tooltip": null,
       "layout": "IPY_MODEL_0ad3a8e2c62b4ad59516a665224fdb2f",
       "placeholder": "​",
       "style": "IPY_MODEL_dddb706e9346496e8757bf75244d2888",
       "value": " 2.40M/2.40M [00:00&lt;00:00, 9.83MB/s]"
      }
     },
     "648406575fb04028883236eb5585df5f": {
      "model_module": "@jupyter-widgets/controls",
      "model_module_version": "1.5.0",
      "model_name": "HTMLModel",
      "state": {
       "_dom_classes": [],
       "_model_module": "@jupyter-widgets/controls",
       "_model_module_version": "1.5.0",
       "_model_name": "HTMLModel",
       "_view_count": null,
       "_view_module": "@jupyter-widgets/controls",
       "_view_module_version": "1.5.0",
       "_view_name": "HTMLView",
       "description": "",
       "description_tooltip": null,
       "layout": "IPY_MODEL_46dcbfaeafb241a1954db64eb76b0788",
       "placeholder": "​",
       "style": "IPY_MODEL_6224dba61c0041c39d2f124c8032ea5e",
       "value": "Downloading (…)cial_tokens_map.json: 100%"
      }
     },
     "6cddbce3d8c049fcbe03caf620a969d7": {
      "model_module": "@jupyter-widgets/controls",
      "model_module_version": "1.5.0",
      "model_name": "FloatProgressModel",
      "state": {
       "_dom_classes": [],
       "_model_module": "@jupyter-widgets/controls",
       "_model_module_version": "1.5.0",
       "_model_name": "FloatProgressModel",
       "_view_count": null,
       "_view_module": "@jupyter-widgets/controls",
       "_view_module_version": "1.5.0",
       "_view_name": "ProgressView",
       "bar_style": "success",
       "description": "",
       "description_tooltip": null,
       "layout": "IPY_MODEL_09581153b9c449fc8ae6bfd75ee30c66",
       "max": 903886847.0,
       "min": 0.0,
       "orientation": "horizontal",
       "style": "IPY_MODEL_168189757ad84e298640fa7ea65434f3",
       "value": 903886847.0
      }
     },
     "78765172090749ccbe702254df52ce08": {
      "model_module": "@jupyter-widgets/controls",
      "model_module_version": "1.5.0",
      "model_name": "HTMLModel",
      "state": {
       "_dom_classes": [],
       "_model_module": "@jupyter-widgets/controls",
       "_model_module_version": "1.5.0",
       "_model_name": "HTMLModel",
       "_view_count": null,
       "_view_module": "@jupyter-widgets/controls",
       "_view_module_version": "1.5.0",
       "_view_name": "HTMLView",
       "description": "",
       "description_tooltip": null,
       "layout": "IPY_MODEL_fa6e4e95e058451ca8121d1d1abf3b65",
       "placeholder": "​",
       "style": "IPY_MODEL_41cb3ab896fc4661b507eb283b9208c2",
       "value": "Downloading (…)lve/main/config.json: 100%"
      }
     },
     "7a9fe3db6ec84cc88e023f46f444e8b3": {
      "model_module": "@jupyter-widgets/base",
      "model_module_version": "1.2.0",
      "model_name": "LayoutModel",
      "state": {
       "_model_module": "@jupyter-widgets/base",
       "_model_module_version": "1.2.0",
       "_model_name": "LayoutModel",
       "_view_count": null,
       "_view_module": "@jupyter-widgets/base",
       "_view_module_version": "1.2.0",
       "_view_name": "LayoutView",
       "align_content": null,
       "align_items": null,
       "align_self": null,
       "border": null,
       "bottom": null,
       "display": null,
       "flex": null,
       "flex_flow": null,
       "grid_area": null,
       "grid_auto_columns": null,
       "grid_auto_flow": null,
       "grid_auto_rows": null,
       "grid_column": null,
       "grid_gap": null,
       "grid_row": null,
       "grid_template_areas": null,
       "grid_template_columns": null,
       "grid_template_rows": null,
       "height": null,
       "justify_content": null,
       "justify_items": null,
       "left": null,
       "margin": null,
       "max_height": null,
       "max_width": null,
       "min_height": null,
       "min_width": null,
       "object_fit": null,
       "object_position": null,
       "order": null,
       "overflow": null,
       "overflow_x": null,
       "overflow_y": null,
       "padding": null,
       "right": null,
       "top": null,
       "visibility": null,
       "width": null
      }
     },
     "7ae4b66c969e4b6783e8881209851de1": {
      "model_module": "@jupyter-widgets/base",
      "model_module_version": "1.2.0",
      "model_name": "LayoutModel",
      "state": {
       "_model_module": "@jupyter-widgets/base",
       "_model_module_version": "1.2.0",
       "_model_name": "LayoutModel",
       "_view_count": null,
       "_view_module": "@jupyter-widgets/base",
       "_view_module_version": "1.2.0",
       "_view_name": "LayoutView",
       "align_content": null,
       "align_items": null,
       "align_self": null,
       "border": null,
       "bottom": null,
       "display": null,
       "flex": null,
       "flex_flow": null,
       "grid_area": null,
       "grid_auto_columns": null,
       "grid_auto_flow": null,
       "grid_auto_rows": null,
       "grid_column": null,
       "grid_gap": null,
       "grid_row": null,
       "grid_template_areas": null,
       "grid_template_columns": null,
       "grid_template_rows": null,
       "height": null,
       "justify_content": null,
       "justify_items": null,
       "left": null,
       "margin": null,
       "max_height": null,
       "max_width": null,
       "min_height": null,
       "min_width": null,
       "object_fit": null,
       "object_position": null,
       "order": null,
       "overflow": null,
       "overflow_x": null,
       "overflow_y": null,
       "padding": null,
       "right": null,
       "top": null,
       "visibility": null,
       "width": null
      }
     },
     "7b79a482813f481da4df5c5a052ee917": {
      "model_module": "@jupyter-widgets/base",
      "model_module_version": "1.2.0",
      "model_name": "LayoutModel",
      "state": {
       "_model_module": "@jupyter-widgets/base",
       "_model_module_version": "1.2.0",
       "_model_name": "LayoutModel",
       "_view_count": null,
       "_view_module": "@jupyter-widgets/base",
       "_view_module_version": "1.2.0",
       "_view_name": "LayoutView",
       "align_content": null,
       "align_items": null,
       "align_self": null,
       "border": null,
       "bottom": null,
       "display": null,
       "flex": null,
       "flex_flow": null,
       "grid_area": null,
       "grid_auto_columns": null,
       "grid_auto_flow": null,
       "grid_auto_rows": null,
       "grid_column": null,
       "grid_gap": null,
       "grid_row": null,
       "grid_template_areas": null,
       "grid_template_columns": null,
       "grid_template_rows": null,
       "height": null,
       "justify_content": null,
       "justify_items": null,
       "left": null,
       "margin": null,
       "max_height": null,
       "max_width": null,
       "min_height": null,
       "min_width": null,
       "object_fit": null,
       "object_position": null,
       "order": null,
       "overflow": null,
       "overflow_x": null,
       "overflow_y": null,
       "padding": null,
       "right": null,
       "top": null,
       "visibility": null,
       "width": null
      }
     },
     "85ba39a249b7400b9433042f4ee7160b": {
      "model_module": "@jupyter-widgets/controls",
      "model_module_version": "1.5.0",
      "model_name": "DescriptionStyleModel",
      "state": {
       "_model_module": "@jupyter-widgets/controls",
       "_model_module_version": "1.5.0",
       "_model_name": "DescriptionStyleModel",
       "_view_count": null,
       "_view_module": "@jupyter-widgets/base",
       "_view_module_version": "1.2.0",
       "_view_name": "StyleView",
       "description_width": ""
      }
     },
     "890bc7476ab4439f9168c3f8fdf421c7": {
      "model_module": "@jupyter-widgets/base",
      "model_module_version": "1.2.0",
      "model_name": "LayoutModel",
      "state": {
       "_model_module": "@jupyter-widgets/base",
       "_model_module_version": "1.2.0",
       "_model_name": "LayoutModel",
       "_view_count": null,
       "_view_module": "@jupyter-widgets/base",
       "_view_module_version": "1.2.0",
       "_view_name": "LayoutView",
       "align_content": null,
       "align_items": null,
       "align_self": null,
       "border": null,
       "bottom": null,
       "display": null,
       "flex": null,
       "flex_flow": null,
       "grid_area": null,
       "grid_auto_columns": null,
       "grid_auto_flow": null,
       "grid_auto_rows": null,
       "grid_column": null,
       "grid_gap": null,
       "grid_row": null,
       "grid_template_areas": null,
       "grid_template_columns": null,
       "grid_template_rows": null,
       "height": null,
       "justify_content": null,
       "justify_items": null,
       "left": null,
       "margin": null,
       "max_height": null,
       "max_width": null,
       "min_height": null,
       "min_width": null,
       "object_fit": null,
       "object_position": null,
       "order": null,
       "overflow": null,
       "overflow_x": null,
       "overflow_y": null,
       "padding": null,
       "right": null,
       "top": null,
       "visibility": null,
       "width": null
      }
     },
     "905e9ff16b544ac3aa14e392694e42fc": {
      "model_module": "@jupyter-widgets/base",
      "model_module_version": "1.2.0",
      "model_name": "LayoutModel",
      "state": {
       "_model_module": "@jupyter-widgets/base",
       "_model_module_version": "1.2.0",
       "_model_name": "LayoutModel",
       "_view_count": null,
       "_view_module": "@jupyter-widgets/base",
       "_view_module_version": "1.2.0",
       "_view_name": "LayoutView",
       "align_content": null,
       "align_items": null,
       "align_self": null,
       "border": null,
       "bottom": null,
       "display": null,
       "flex": null,
       "flex_flow": null,
       "grid_area": null,
       "grid_auto_columns": null,
       "grid_auto_flow": null,
       "grid_auto_rows": null,
       "grid_column": null,
       "grid_gap": null,
       "grid_row": null,
       "grid_template_areas": null,
       "grid_template_columns": null,
       "grid_template_rows": null,
       "height": null,
       "justify_content": null,
       "justify_items": null,
       "left": null,
       "margin": null,
       "max_height": null,
       "max_width": null,
       "min_height": null,
       "min_width": null,
       "object_fit": null,
       "object_position": null,
       "order": null,
       "overflow": null,
       "overflow_x": null,
       "overflow_y": null,
       "padding": null,
       "right": null,
       "top": null,
       "visibility": null,
       "width": null
      }
     },
     "9328292bd0ba407db5e31206c02a5d1e": {
      "model_module": "@jupyter-widgets/base",
      "model_module_version": "1.2.0",
      "model_name": "LayoutModel",
      "state": {
       "_model_module": "@jupyter-widgets/base",
       "_model_module_version": "1.2.0",
       "_model_name": "LayoutModel",
       "_view_count": null,
       "_view_module": "@jupyter-widgets/base",
       "_view_module_version": "1.2.0",
       "_view_name": "LayoutView",
       "align_content": null,
       "align_items": null,
       "align_self": null,
       "border": null,
       "bottom": null,
       "display": null,
       "flex": null,
       "flex_flow": null,
       "grid_area": null,
       "grid_auto_columns": null,
       "grid_auto_flow": null,
       "grid_auto_rows": null,
       "grid_column": null,
       "grid_gap": null,
       "grid_row": null,
       "grid_template_areas": null,
       "grid_template_columns": null,
       "grid_template_rows": null,
       "height": null,
       "justify_content": null,
       "justify_items": null,
       "left": null,
       "margin": null,
       "max_height": null,
       "max_width": null,
       "min_height": null,
       "min_width": null,
       "object_fit": null,
       "object_position": null,
       "order": null,
       "overflow": null,
       "overflow_x": null,
       "overflow_y": null,
       "padding": null,
       "right": null,
       "top": null,
       "visibility": null,
       "width": null
      }
     },
     "939021ad0bd74df5b4e27e5b44b3b4b7": {
      "model_module": "@jupyter-widgets/base",
      "model_module_version": "1.2.0",
      "model_name": "LayoutModel",
      "state": {
       "_model_module": "@jupyter-widgets/base",
       "_model_module_version": "1.2.0",
       "_model_name": "LayoutModel",
       "_view_count": null,
       "_view_module": "@jupyter-widgets/base",
       "_view_module_version": "1.2.0",
       "_view_name": "LayoutView",
       "align_content": null,
       "align_items": null,
       "align_self": null,
       "border": null,
       "bottom": null,
       "display": null,
       "flex": null,
       "flex_flow": null,
       "grid_area": null,
       "grid_auto_columns": null,
       "grid_auto_flow": null,
       "grid_auto_rows": null,
       "grid_column": null,
       "grid_gap": null,
       "grid_row": null,
       "grid_template_areas": null,
       "grid_template_columns": null,
       "grid_template_rows": null,
       "height": null,
       "justify_content": null,
       "justify_items": null,
       "left": null,
       "margin": null,
       "max_height": null,
       "max_width": null,
       "min_height": null,
       "min_width": null,
       "object_fit": null,
       "object_position": null,
       "order": null,
       "overflow": null,
       "overflow_x": null,
       "overflow_y": null,
       "padding": null,
       "right": null,
       "top": null,
       "visibility": null,
       "width": null
      }
     },
     "96dfeb93661c4ac1976a39096902ed4c": {
      "model_module": "@jupyter-widgets/controls",
      "model_module_version": "1.5.0",
      "model_name": "DescriptionStyleModel",
      "state": {
       "_model_module": "@jupyter-widgets/controls",
       "_model_module_version": "1.5.0",
       "_model_name": "DescriptionStyleModel",
       "_view_count": null,
       "_view_module": "@jupyter-widgets/base",
       "_view_module_version": "1.2.0",
       "_view_name": "StyleView",
       "description_width": ""
      }
     },
     "a28454a7836e41e88f05c679f103adcb": {
      "model_module": "@jupyter-widgets/controls",
      "model_module_version": "1.5.0",
      "model_name": "DescriptionStyleModel",
      "state": {
       "_model_module": "@jupyter-widgets/controls",
       "_model_module_version": "1.5.0",
       "_model_name": "DescriptionStyleModel",
       "_view_count": null,
       "_view_module": "@jupyter-widgets/base",
       "_view_module_version": "1.2.0",
       "_view_name": "StyleView",
       "description_width": ""
      }
     },
     "ad48e0e4634b4bd886baea354e617357": {
      "model_module": "@jupyter-widgets/controls",
      "model_module_version": "1.5.0",
      "model_name": "DescriptionStyleModel",
      "state": {
       "_model_module": "@jupyter-widgets/controls",
       "_model_module_version": "1.5.0",
       "_model_name": "DescriptionStyleModel",
       "_view_count": null,
       "_view_module": "@jupyter-widgets/base",
       "_view_module_version": "1.2.0",
       "_view_name": "StyleView",
       "description_width": ""
      }
     },
     "b56113d409f44110bd28fcb9eaab859d": {
      "model_module": "@jupyter-widgets/controls",
      "model_module_version": "1.5.0",
      "model_name": "FloatProgressModel",
      "state": {
       "_dom_classes": [],
       "_model_module": "@jupyter-widgets/controls",
       "_model_module_version": "1.5.0",
       "_model_name": "FloatProgressModel",
       "_view_count": null,
       "_view_module": "@jupyter-widgets/controls",
       "_view_module_version": "1.5.0",
       "_view_name": "ProgressView",
       "bar_style": "success",
       "description": "",
       "description_tooltip": null,
       "layout": "IPY_MODEL_939021ad0bd74df5b4e27e5b44b3b4b7",
       "max": 702.0,
       "min": 0.0,
       "orientation": "horizontal",
       "style": "IPY_MODEL_54827dc9cd1540adafc037acc05e4686",
       "value": 702.0
      }
     },
     "b83bf16274dd4eb4924207a0ebfbb5c1": {
      "model_module": "@jupyter-widgets/controls",
      "model_module_version": "1.5.0",
      "model_name": "HTMLModel",
      "state": {
       "_dom_classes": [],
       "_model_module": "@jupyter-widgets/controls",
       "_model_module_version": "1.5.0",
       "_model_name": "HTMLModel",
       "_view_count": null,
       "_view_module": "@jupyter-widgets/controls",
       "_view_module_version": "1.5.0",
       "_view_name": "HTMLView",
       "description": "",
       "description_tooltip": null,
       "layout": "IPY_MODEL_074bd6a2e32b4b0591a193cb5b1696ee",
       "placeholder": "​",
       "style": "IPY_MODEL_5e75863901f2428ca87b151572b466c9",
       "value": " 2.20k/2.20k [00:00&lt;00:00, 132kB/s]"
      }
     },
     "b848476bce9943d786b895a74288d217": {
      "model_module": "@jupyter-widgets/controls",
      "model_module_version": "1.5.0",
      "model_name": "ProgressStyleModel",
      "state": {
       "_model_module": "@jupyter-widgets/controls",
       "_model_module_version": "1.5.0",
       "_model_name": "ProgressStyleModel",
       "_view_count": null,
       "_view_module": "@jupyter-widgets/base",
       "_view_module_version": "1.2.0",
       "_view_name": "StyleView",
       "bar_color": null,
       "description_width": ""
      }
     },
     "b9cfe5d403ff4f4c97de336b5d719724": {
      "model_module": "@jupyter-widgets/base",
      "model_module_version": "1.2.0",
      "model_name": "LayoutModel",
      "state": {
       "_model_module": "@jupyter-widgets/base",
       "_model_module_version": "1.2.0",
       "_model_name": "LayoutModel",
       "_view_count": null,
       "_view_module": "@jupyter-widgets/base",
       "_view_module_version": "1.2.0",
       "_view_name": "LayoutView",
       "align_content": null,
       "align_items": null,
       "align_self": null,
       "border": null,
       "bottom": null,
       "display": null,
       "flex": null,
       "flex_flow": null,
       "grid_area": null,
       "grid_auto_columns": null,
       "grid_auto_flow": null,
       "grid_auto_rows": null,
       "grid_column": null,
       "grid_gap": null,
       "grid_row": null,
       "grid_template_areas": null,
       "grid_template_columns": null,
       "grid_template_rows": null,
       "height": null,
       "justify_content": null,
       "justify_items": null,
       "left": null,
       "margin": null,
       "max_height": null,
       "max_width": null,
       "min_height": null,
       "min_width": null,
       "object_fit": null,
       "object_position": null,
       "order": null,
       "overflow": null,
       "overflow_x": null,
       "overflow_y": null,
       "padding": null,
       "right": null,
       "top": null,
       "visibility": null,
       "width": null
      }
     },
     "ba5591effb794b03b9f39d3bc1eee8b3": {
      "model_module": "@jupyter-widgets/base",
      "model_module_version": "1.2.0",
      "model_name": "LayoutModel",
      "state": {
       "_model_module": "@jupyter-widgets/base",
       "_model_module_version": "1.2.0",
       "_model_name": "LayoutModel",
       "_view_count": null,
       "_view_module": "@jupyter-widgets/base",
       "_view_module_version": "1.2.0",
       "_view_name": "LayoutView",
       "align_content": null,
       "align_items": null,
       "align_self": null,
       "border": null,
       "bottom": null,
       "display": null,
       "flex": null,
       "flex_flow": null,
       "grid_area": null,
       "grid_auto_columns": null,
       "grid_auto_flow": null,
       "grid_auto_rows": null,
       "grid_column": null,
       "grid_gap": null,
       "grid_row": null,
       "grid_template_areas": null,
       "grid_template_columns": null,
       "grid_template_rows": null,
       "height": null,
       "justify_content": null,
       "justify_items": null,
       "left": null,
       "margin": null,
       "max_height": null,
       "max_width": null,
       "min_height": null,
       "min_width": null,
       "object_fit": null,
       "object_position": null,
       "order": null,
       "overflow": null,
       "overflow_x": null,
       "overflow_y": null,
       "padding": null,
       "right": null,
       "top": null,
       "visibility": null,
       "width": null
      }
     },
     "bc618cf9940d4d92a163390761c215b2": {
      "model_module": "@jupyter-widgets/controls",
      "model_module_version": "1.5.0",
      "model_name": "HBoxModel",
      "state": {
       "_dom_classes": [],
       "_model_module": "@jupyter-widgets/controls",
       "_model_module_version": "1.5.0",
       "_model_name": "HBoxModel",
       "_view_count": null,
       "_view_module": "@jupyter-widgets/controls",
       "_view_module_version": "1.5.0",
       "_view_name": "HBoxView",
       "box_style": "",
       "children": [
        "IPY_MODEL_78765172090749ccbe702254df52ce08",
        "IPY_MODEL_b56113d409f44110bd28fcb9eaab859d",
        "IPY_MODEL_4da421fda7ad4cb38d08bab0ab4e26ab"
       ],
       "layout": "IPY_MODEL_f5373e1912b948c5b8956ae8e08c3888"
      }
     },
     "bd871468304140208bd65c4a6ec46a34": {
      "model_module": "@jupyter-widgets/base",
      "model_module_version": "1.2.0",
      "model_name": "LayoutModel",
      "state": {
       "_model_module": "@jupyter-widgets/base",
       "_model_module_version": "1.2.0",
       "_model_name": "LayoutModel",
       "_view_count": null,
       "_view_module": "@jupyter-widgets/base",
       "_view_module_version": "1.2.0",
       "_view_name": "LayoutView",
       "align_content": null,
       "align_items": null,
       "align_self": null,
       "border": null,
       "bottom": null,
       "display": null,
       "flex": null,
       "flex_flow": null,
       "grid_area": null,
       "grid_auto_columns": null,
       "grid_auto_flow": null,
       "grid_auto_rows": null,
       "grid_column": null,
       "grid_gap": null,
       "grid_row": null,
       "grid_template_areas": null,
       "grid_template_columns": null,
       "grid_template_rows": null,
       "height": null,
       "justify_content": null,
       "justify_items": null,
       "left": null,
       "margin": null,
       "max_height": null,
       "max_width": null,
       "min_height": null,
       "min_width": null,
       "object_fit": null,
       "object_position": null,
       "order": null,
       "overflow": null,
       "overflow_x": null,
       "overflow_y": null,
       "padding": null,
       "right": null,
       "top": null,
       "visibility": null,
       "width": null
      }
     },
     "c1aa5d9a4ab945d58c942ab545159eb8": {
      "model_module": "@jupyter-widgets/controls",
      "model_module_version": "1.5.0",
      "model_name": "HTMLModel",
      "state": {
       "_dom_classes": [],
       "_model_module": "@jupyter-widgets/controls",
       "_model_module_version": "1.5.0",
       "_model_name": "HTMLModel",
       "_view_count": null,
       "_view_module": "@jupyter-widgets/controls",
       "_view_module_version": "1.5.0",
       "_view_name": "HTMLView",
       "description": "",
       "description_tooltip": null,
       "layout": "IPY_MODEL_497c5247c07e410da0f590e531ca40be",
       "placeholder": "​",
       "style": "IPY_MODEL_19374742b7554be883e1662a764dbe06",
       "value": " 820k/820k [00:00&lt;00:00, 2.74MB/s]"
      }
     },
     "d0e766cf834f4218bc78f9fcd8712438": {
      "model_module": "@jupyter-widgets/controls",
      "model_module_version": "1.5.0",
      "model_name": "FloatProgressModel",
      "state": {
       "_dom_classes": [],
       "_model_module": "@jupyter-widgets/controls",
       "_model_module_version": "1.5.0",
       "_model_name": "FloatProgressModel",
       "_view_count": null,
       "_view_module": "@jupyter-widgets/controls",
       "_view_module_version": "1.5.0",
       "_view_name": "ProgressView",
       "bar_style": "success",
       "description": "",
       "description_tooltip": null,
       "layout": "IPY_MODEL_33a5189c2e4a4b7688b395fa394da020",
       "max": 2197.0,
       "min": 0.0,
       "orientation": "horizontal",
       "style": "IPY_MODEL_560ece2c87a74406b80cd07eb371706c",
       "value": 2197.0
      }
     },
     "d11c2bdacdf248dba98e901eef9b6c76": {
      "model_module": "@jupyter-widgets/base",
      "model_module_version": "1.2.0",
      "model_name": "LayoutModel",
      "state": {
       "_model_module": "@jupyter-widgets/base",
       "_model_module_version": "1.2.0",
       "_model_name": "LayoutModel",
       "_view_count": null,
       "_view_module": "@jupyter-widgets/base",
       "_view_module_version": "1.2.0",
       "_view_name": "LayoutView",
       "align_content": null,
       "align_items": null,
       "align_self": null,
       "border": null,
       "bottom": null,
       "display": null,
       "flex": null,
       "flex_flow": null,
       "grid_area": null,
       "grid_auto_columns": null,
       "grid_auto_flow": null,
       "grid_auto_rows": null,
       "grid_column": null,
       "grid_gap": null,
       "grid_row": null,
       "grid_template_areas": null,
       "grid_template_columns": null,
       "grid_template_rows": null,
       "height": null,
       "justify_content": null,
       "justify_items": null,
       "left": null,
       "margin": null,
       "max_height": null,
       "max_width": null,
       "min_height": null,
       "min_width": null,
       "object_fit": null,
       "object_position": null,
       "order": null,
       "overflow": null,
       "overflow_x": null,
       "overflow_y": null,
       "padding": null,
       "right": null,
       "top": null,
       "visibility": null,
       "width": null
      }
     },
     "d889d6ae344944dab25aaa97cb1f0aa8": {
      "model_module": "@jupyter-widgets/base",
      "model_module_version": "1.2.0",
      "model_name": "LayoutModel",
      "state": {
       "_model_module": "@jupyter-widgets/base",
       "_model_module_version": "1.2.0",
       "_model_name": "LayoutModel",
       "_view_count": null,
       "_view_module": "@jupyter-widgets/base",
       "_view_module_version": "1.2.0",
       "_view_name": "LayoutView",
       "align_content": null,
       "align_items": null,
       "align_self": null,
       "border": null,
       "bottom": null,
       "display": null,
       "flex": null,
       "flex_flow": null,
       "grid_area": null,
       "grid_auto_columns": null,
       "grid_auto_flow": null,
       "grid_auto_rows": null,
       "grid_column": null,
       "grid_gap": null,
       "grid_row": null,
       "grid_template_areas": null,
       "grid_template_columns": null,
       "grid_template_rows": null,
       "height": null,
       "justify_content": null,
       "justify_items": null,
       "left": null,
       "margin": null,
       "max_height": null,
       "max_width": null,
       "min_height": null,
       "min_width": null,
       "object_fit": null,
       "object_position": null,
       "order": null,
       "overflow": null,
       "overflow_x": null,
       "overflow_y": null,
       "padding": null,
       "right": null,
       "top": null,
       "visibility": null,
       "width": null
      }
     },
     "da0a6866fc61450bb012ec8e71172425": {
      "model_module": "@jupyter-widgets/controls",
      "model_module_version": "1.5.0",
      "model_name": "HTMLModel",
      "state": {
       "_dom_classes": [],
       "_model_module": "@jupyter-widgets/controls",
       "_model_module_version": "1.5.0",
       "_model_name": "HTMLModel",
       "_view_count": null,
       "_view_module": "@jupyter-widgets/controls",
       "_view_module_version": "1.5.0",
       "_view_name": "HTMLView",
       "description": "",
       "description_tooltip": null,
       "layout": "IPY_MODEL_0975be64a11845439dd62b1b7f5a828e",
       "placeholder": "​",
       "style": "IPY_MODEL_85ba39a249b7400b9433042f4ee7160b",
       "value": "Downloading spiece.model: 100%"
      }
     },
     "dddb706e9346496e8757bf75244d2888": {
      "model_module": "@jupyter-widgets/controls",
      "model_module_version": "1.5.0",
      "model_name": "DescriptionStyleModel",
      "state": {
       "_model_module": "@jupyter-widgets/controls",
       "_model_module_version": "1.5.0",
       "_model_name": "DescriptionStyleModel",
       "_view_count": null,
       "_view_module": "@jupyter-widgets/base",
       "_view_module_version": "1.2.0",
       "_view_name": "StyleView",
       "description_width": ""
      }
     },
     "e189193409134ad2a69aa44c92fae46c": {
      "model_module": "@jupyter-widgets/controls",
      "model_module_version": "1.5.0",
      "model_name": "HBoxModel",
      "state": {
       "_dom_classes": [],
       "_model_module": "@jupyter-widgets/controls",
       "_model_module_version": "1.5.0",
       "_model_name": "HBoxModel",
       "_view_count": null,
       "_view_module": "@jupyter-widgets/controls",
       "_view_module_version": "1.5.0",
       "_view_name": "HBoxView",
       "box_style": "",
       "children": [
        "IPY_MODEL_efd2fc0665cc468c9cdb6de84d1f984f",
        "IPY_MODEL_24b6b9fe60ed4a3f865656d357e44902",
        "IPY_MODEL_640a965d61c8462c90fa9c1ed9dfc7bc"
       ],
       "layout": "IPY_MODEL_d11c2bdacdf248dba98e901eef9b6c76"
      }
     },
     "efd2fc0665cc468c9cdb6de84d1f984f": {
      "model_module": "@jupyter-widgets/controls",
      "model_module_version": "1.5.0",
      "model_name": "HTMLModel",
      "state": {
       "_dom_classes": [],
       "_model_module": "@jupyter-widgets/controls",
       "_model_module_version": "1.5.0",
       "_model_name": "HTMLModel",
       "_view_count": null,
       "_view_module": "@jupyter-widgets/controls",
       "_view_module_version": "1.5.0",
       "_view_name": "HTMLView",
       "description": "",
       "description_tooltip": null,
       "layout": "IPY_MODEL_d889d6ae344944dab25aaa97cb1f0aa8",
       "placeholder": "​",
       "style": "IPY_MODEL_a28454a7836e41e88f05c679f103adcb",
       "value": "Downloading (…)/main/tokenizer.json: 100%"
      }
     },
     "f5373e1912b948c5b8956ae8e08c3888": {
      "model_module": "@jupyter-widgets/base",
      "model_module_version": "1.2.0",
      "model_name": "LayoutModel",
      "state": {
       "_model_module": "@jupyter-widgets/base",
       "_model_module_version": "1.2.0",
       "_model_name": "LayoutModel",
       "_view_count": null,
       "_view_module": "@jupyter-widgets/base",
       "_view_module_version": "1.2.0",
       "_view_name": "LayoutView",
       "align_content": null,
       "align_items": null,
       "align_self": null,
       "border": null,
       "bottom": null,
       "display": null,
       "flex": null,
       "flex_flow": null,
       "grid_area": null,
       "grid_auto_columns": null,
       "grid_auto_flow": null,
       "grid_auto_rows": null,
       "grid_column": null,
       "grid_gap": null,
       "grid_row": null,
       "grid_template_areas": null,
       "grid_template_columns": null,
       "grid_template_rows": null,
       "height": null,
       "justify_content": null,
       "justify_items": null,
       "left": null,
       "margin": null,
       "max_height": null,
       "max_width": null,
       "min_height": null,
       "min_width": null,
       "object_fit": null,
       "object_position": null,
       "order": null,
       "overflow": null,
       "overflow_x": null,
       "overflow_y": null,
       "padding": null,
       "right": null,
       "top": null,
       "visibility": null,
       "width": null
      }
     },
     "fa6e4e95e058451ca8121d1d1abf3b65": {
      "model_module": "@jupyter-widgets/base",
      "model_module_version": "1.2.0",
      "model_name": "LayoutModel",
      "state": {
       "_model_module": "@jupyter-widgets/base",
       "_model_module_version": "1.2.0",
       "_model_name": "LayoutModel",
       "_view_count": null,
       "_view_module": "@jupyter-widgets/base",
       "_view_module_version": "1.2.0",
       "_view_name": "LayoutView",
       "align_content": null,
       "align_items": null,
       "align_self": null,
       "border": null,
       "bottom": null,
       "display": null,
       "flex": null,
       "flex_flow": null,
       "grid_area": null,
       "grid_auto_columns": null,
       "grid_auto_flow": null,
       "grid_auto_rows": null,
       "grid_column": null,
       "grid_gap": null,
       "grid_row": null,
       "grid_template_areas": null,
       "grid_template_columns": null,
       "grid_template_rows": null,
       "height": null,
       "justify_content": null,
       "justify_items": null,
       "left": null,
       "margin": null,
       "max_height": null,
       "max_width": null,
       "min_height": null,
       "min_width": null,
       "object_fit": null,
       "object_position": null,
       "order": null,
       "overflow": null,
       "overflow_x": null,
       "overflow_y": null,
       "padding": null,
       "right": null,
       "top": null,
       "visibility": null,
       "width": null
      }
     },
     "ff953d3e034047ac9cc9b311f4dbdca6": {
      "model_module": "@jupyter-widgets/base",
      "model_module_version": "1.2.0",
      "model_name": "LayoutModel",
      "state": {
       "_model_module": "@jupyter-widgets/base",
       "_model_module_version": "1.2.0",
       "_model_name": "LayoutModel",
       "_view_count": null,
       "_view_module": "@jupyter-widgets/base",
       "_view_module_version": "1.2.0",
       "_view_name": "LayoutView",
       "align_content": null,
       "align_items": null,
       "align_self": null,
       "border": null,
       "bottom": null,
       "display": null,
       "flex": null,
       "flex_flow": null,
       "grid_area": null,
       "grid_auto_columns": null,
       "grid_auto_flow": null,
       "grid_auto_rows": null,
       "grid_column": null,
       "grid_gap": null,
       "grid_row": null,
       "grid_template_areas": null,
       "grid_template_columns": null,
       "grid_template_rows": null,
       "height": null,
       "justify_content": null,
       "justify_items": null,
       "left": null,
       "margin": null,
       "max_height": null,
       "max_width": null,
       "min_height": null,
       "min_width": null,
       "object_fit": null,
       "object_position": null,
       "order": null,
       "overflow": null,
       "overflow_x": null,
       "overflow_y": null,
       "padding": null,
       "right": null,
       "top": null,
       "visibility": null,
       "width": null
      }
     }
    },
    "version_major": 2,
    "version_minor": 0
   }
  }
 },
 "nbformat": 4,
 "nbformat_minor": 5
}
